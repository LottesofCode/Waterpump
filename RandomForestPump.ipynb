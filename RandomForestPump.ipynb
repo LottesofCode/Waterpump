{
 "cells": [
  {
   "cell_type": "code",
   "execution_count": 14,
   "outputs": [],
   "source": [
    "import pandas as pd\n",
    "import matplotlib.pyplot as plt\n",
    "from sklearn.ensemble import RandomForestClassifier\n",
    "from sklearn.model_selection import train_test_split"
   ],
   "metadata": {
    "collapsed": false,
    "pycharm": {
     "name": "#%%\n"
    }
   }
  },
  {
   "cell_type": "code",
   "execution_count": 15,
   "outputs": [],
   "source": [
    "#import the data\n",
    "df = pd.read_csv(r'pump_model_data.csv')"
   ],
   "metadata": {
    "collapsed": false,
    "pycharm": {
     "name": "#%%\n"
    }
   }
  },
  {
   "cell_type": "code",
   "execution_count": 16,
   "outputs": [
    {
     "data": {
      "text/plain": "Index(['funder', 'installer', 'scheme_management', 'extraction_type_group',\n       'quality_group', 'source_type', 'quantity', 'payment', 'basin',\n       'waterpoint_type', 'age_at_record', 'id', 'status_group',\n       'public_meeting', 'permit'],\n      dtype='object')"
     },
     "execution_count": 16,
     "metadata": {},
     "output_type": "execute_result"
    }
   ],
   "source": [
    "df.columns"
   ],
   "metadata": {
    "collapsed": false,
    "pycharm": {
     "name": "#%%\n"
    }
   }
  },
  {
   "cell_type": "code",
   "execution_count": 17,
   "outputs": [],
   "source": [
    "#create dummies\n",
    "dum_df = pd.get_dummies(df, columns=['funder', 'installer', 'scheme_management', 'extraction_type_group',\n",
    "                                     'quality_group', 'source_type', 'quantity', 'payment', 'basin',\n",
    "                                     'waterpoint_type', 'public_meeting', 'permit'] )"
   ],
   "metadata": {
    "collapsed": false,
    "pycharm": {
     "name": "#%%\n"
    }
   }
  },
  {
   "cell_type": "code",
   "execution_count": 31,
   "outputs": [
    {
     "name": "stdout",
     "output_type": "stream",
     "text": [
      "Index(['status_group', 'age_at_record', 'funder_Danida',\n",
      "       'funder_Government Of Tanzania', 'funder_Hesawa', 'funder_Kkkt',\n",
      "       'funder_Other', 'funder_Rwssp', 'funder_Unicef', 'funder_World Bank',\n",
      "       'funder_World Vision', 'installer_Commu', 'installer_DANIDA',\n",
      "       'installer_DWE', 'installer_Government', 'installer_Hesawa',\n",
      "       'installer_KKKT', 'installer_Other', 'installer_RWE',\n",
      "       'scheme_management_Company', 'scheme_management_Other',\n",
      "       'scheme_management_Parastatal', 'scheme_management_Private operator',\n",
      "       'scheme_management_VWC', 'scheme_management_WUA',\n",
      "       'scheme_management_WUG', 'scheme_management_Water Board',\n",
      "       'scheme_management_Water authority', 'extraction_type_group_afridev',\n",
      "       'extraction_type_group_gravity', 'extraction_type_group_india mark ii',\n",
      "       'extraction_type_group_india mark iii', 'extraction_type_group_mono',\n",
      "       'extraction_type_group_nira/tanira', 'extraction_type_group_other',\n",
      "       'extraction_type_group_other handpump',\n",
      "       'extraction_type_group_other motorpump',\n",
      "       'extraction_type_group_rope pump', 'extraction_type_group_submersible',\n",
      "       'extraction_type_group_swn 80', 'extraction_type_group_wind-powered',\n",
      "       'quality_group_colored', 'quality_group_fluoride', 'quality_group_good',\n",
      "       'quality_group_milky', 'quality_group_salty', 'quality_group_unknown',\n",
      "       'source_type_borehole', 'source_type_dam', 'source_type_other',\n",
      "       'source_type_rainwater harvesting', 'source_type_river/lake',\n",
      "       'source_type_shallow well', 'source_type_spring', 'quantity_dry',\n",
      "       'quantity_enough', 'quantity_insufficient', 'quantity_seasonal',\n",
      "       'quantity_unknown', 'payment_never pay', 'payment_other',\n",
      "       'payment_pay annually', 'payment_pay monthly', 'payment_pay per bucket',\n",
      "       'payment_pay when scheme fails', 'payment_unknown', 'basin_Internal',\n",
      "       'basin_Lake Nyasa', 'basin_Lake Rukwa', 'basin_Lake Tanganyika',\n",
      "       'basin_Lake Victoria', 'basin_Pangani', 'basin_Rufiji',\n",
      "       'basin_Ruvuma / Southern Coast', 'basin_Wami / Ruvu',\n",
      "       'waterpoint_type_cattle trough', 'waterpoint_type_communal standpipe',\n",
      "       'waterpoint_type_communal standpipe multiple', 'waterpoint_type_dam',\n",
      "       'waterpoint_type_hand pump', 'waterpoint_type_improved spring',\n",
      "       'waterpoint_type_other', 'public_meeting_False', 'public_meeting_True',\n",
      "       'public_meeting_Unknown', 'permit_False', 'permit_True',\n",
      "       'permit_Unknown'],\n",
      "      dtype='object')\n"
     ]
    }
   ],
   "source": [
    "dum_df['status_group']= df.status_group\n",
    "\n",
    "#reorder columns for ease of use\n",
    "column_to_reorder = dum_df.pop('status_group')\n",
    "dum_df.insert(0, 'status_group', column_to_reorder)\n",
    "column_to_reorder_two = dum_df.pop('id')\n",
    "#dum_df.insert(0, 'id', column_to_reorder_two)\n",
    "\n",
    "print(dum_df.columns)\n",
    "feature_names = list(dum_df.columns)"
   ],
   "metadata": {
    "collapsed": false,
    "pycharm": {
     "name": "#%%\n"
    }
   }
  },
  {
   "cell_type": "code",
   "execution_count": 32,
   "outputs": [
    {
     "name": "stdout",
     "output_type": "stream",
     "text": [
      "0        0\n",
      "1        0\n",
      "2        0\n",
      "3        2\n",
      "4        0\n",
      "        ..\n",
      "59395    0\n",
      "59396    0\n",
      "59397    0\n",
      "59398    0\n",
      "59399    0\n",
      "Name: status_group, Length: 59400, dtype: int8\n"
     ]
    }
   ],
   "source": [
    "#convert labels to category codes\n",
    "dum_df.status_group = dum_df['status_group'].astype('category').cat.codes\n",
    "print(dum_df.status_group)"
   ],
   "metadata": {
    "collapsed": false,
    "pycharm": {
     "name": "#%%\n"
    }
   }
  },
  {
   "cell_type": "code",
   "execution_count": 33,
   "outputs": [
    {
     "name": "stdout",
     "output_type": "stream",
     "text": [
      "[0 0 0 ... 0 0 0]\n"
     ]
    }
   ],
   "source": [
    "#convert labels column to an array\n",
    "labels = dum_df['status_group']\n",
    "labels_array = labels.squeeze().ravel()\n",
    "print(labels_array)\n",
    "\n",
    "#create dictionary for labels\n",
    "dict_cats = {0: 'functional', 1 : 'functional needs repair', 2 : 'non functional'}"
   ],
   "metadata": {
    "collapsed": false,
    "pycharm": {
     "name": "#%%\n"
    }
   }
  },
  {
   "cell_type": "code",
   "execution_count": 34,
   "outputs": [
    {
     "name": "stdout",
     "output_type": "stream",
     "text": [
      "(47520, 86)\n",
      "(47520, 1)\n",
      "(11880, 86)\n",
      "(11880, 1)\n"
     ]
    }
   ],
   "source": [
    "#defining data\n",
    "X_data = dum_df.iloc[:, 2:]\n",
    "y_data = dum_df.iloc[:, 0:1]\n",
    "\n",
    "#creating learning and validation sets\n",
    "X_train, X_test, y_train, y_test = train_test_split(X_data, y_data, test_size=0.2, random_state=42)\n",
    "\n",
    "print(X_train.shape)\n",
    "print(y_train.shape)\n",
    "print(X_test.shape)\n",
    "print(y_test.shape)\n",
    "\n",
    "#convert the y data into an array\n",
    "y_train = y_train.to_numpy().ravel()"
   ],
   "metadata": {
    "collapsed": false,
    "pycharm": {
     "name": "#%%\n"
    }
   }
  },
  {
   "cell_type": "code",
   "execution_count": 35,
   "outputs": [
    {
     "name": "stdout",
     "output_type": "stream",
     "text": [
      "0.7784511784511785\n"
     ]
    }
   ],
   "source": [
    "#Initial random forest\n",
    "forest_model = RandomForestClassifier(n_estimators=1000)\n",
    "forest_model.fit(X_train, y_train)\n",
    "print(forest_model.score(X_test, y_test))"
   ],
   "metadata": {
    "collapsed": false,
    "pycharm": {
     "name": "#%%\n"
    }
   }
  },
  {
   "cell_type": "code",
   "execution_count": null,
   "outputs": [],
   "source": [
    "from sklearn.model_selection import GridSearchCV"
   ],
   "metadata": {
    "collapsed": false,
    "pycharm": {
     "name": "#%%\n"
    }
   }
  },
  {
   "cell_type": "code",
   "execution_count": null,
   "outputs": [],
   "source": [
    "param_grid = {\n",
    "    'n_estimators': [50],\n",
    "    'max_features': ['sqrt'],\n",
    "    'max_depth' :[20],\n",
    "    'min_samples_split' :[2,4,6],\n",
    "    'min_samples_leaf' : list(range(3,5))}"
   ],
   "metadata": {
    "collapsed": false,
    "pycharm": {
     "name": "#%%\n"
    }
   }
  },
  {
   "cell_type": "code",
   "execution_count": null,
   "outputs": [],
   "source": [
    "CV_rfc = GridSearchCV(estimator=forest_model, param_grid=param_grid)\n",
    "CV_rfc.fit(X_train, y_train)"
   ],
   "metadata": {
    "collapsed": false,
    "pycharm": {
     "name": "#%%\n"
    }
   }
  },
  {
   "cell_type": "code",
   "execution_count": null,
   "outputs": [],
   "source": [
    "print(CV_rfc.best_params_)"
   ],
   "metadata": {
    "collapsed": false,
    "pycharm": {
     "name": "#%%\n"
    }
   }
  },
  {
   "cell_type": "code",
   "execution_count": 36,
   "outputs": [
    {
     "name": "stdout",
     "output_type": "stream",
     "text": [
      "0.7828282828282829\n"
     ]
    }
   ],
   "source": [
    "best_forest_model = RandomForestClassifier(n_estimators = 1000, max_features='sqrt', max_depth=20, min_samples_split=4, random_state=12)#,  min_samples_leaf=8)\n",
    "best_forest_model.fit(X_train, y_train)\n",
    "print(best_forest_model.score(X_test, y_test))"
   ],
   "metadata": {
    "collapsed": false,
    "pycharm": {
     "name": "#%%\n"
    }
   }
  },
  {
   "cell_type": "markdown",
   "source": [
    "Intepreting the results\n"
   ],
   "metadata": {
    "collapsed": false,
    "pycharm": {
     "name": "#%% md\n"
    }
   }
  },
  {
   "cell_type": "code",
   "execution_count": 37,
   "outputs": [],
   "source": [
    "#import libraries\n",
    "from sklearn.metrics import classification_report, confusion_matrix\n",
    "import seaborn as sns\n",
    "import numpy as np"
   ],
   "metadata": {
    "collapsed": false,
    "pycharm": {
     "name": "#%%\n"
    }
   }
  },
  {
   "cell_type": "code",
   "execution_count": 38,
   "outputs": [
    {
     "data": {
      "text/plain": "<Figure size 1080x720 with 2 Axes>",
      "image/png": "[encoded data removed]"
     },
     "metadata": {},
     "output_type": "display_data"
    }
   ],
   "source": [
    "#confusion matrix\n",
    "conf_mat = confusion_matrix(y_test, best_forest_model.predict(X_test))\n",
    "fig, ax = plt.subplots(figsize=(15,10))\n",
    "sns.set(font_scale=1.4)\n",
    "sns.heatmap(conf_mat/np.sum(conf_mat), annot=True, fmt = '.1%', cmap = 'Spectral', annot_kws={\"size\": 14})#xticklabels=dicts_cats, yticklabels=dicts_cats)\n",
    "plt.xlabel('Predicted Features')\n",
    "plt.ylabel('True Features')\n",
    "ax.xaxis.set_ticklabels(['functional', 'functional needs repair', 'non-functional'], rotation=20)\n",
    "ax.yaxis.set_ticklabels(['functional', 'functional needs repair', 'non-functional'], rotation=20 )\n",
    "plt.savefig('confmat.jpg', bbox_inches=\"tight\", pad_inches=0.1)\n",
    "plt.show()"
   ],
   "metadata": {
    "collapsed": false,
    "pycharm": {
     "name": "#%%\n"
    }
   }
  },
  {
   "cell_type": "code",
   "execution_count": 39,
   "outputs": [
    {
     "name": "stdout",
     "output_type": "stream",
     "text": [
      "              precision    recall  f1-score   support\n",
      "\n",
      "           0       0.76      0.92      0.83      6457\n",
      "           1       0.59      0.20      0.30       851\n",
      "           2       0.85      0.69      0.76      4572\n",
      "\n",
      "    accuracy                           0.78     11880\n",
      "   macro avg       0.74      0.61      0.63     11880\n",
      "weighted avg       0.78      0.78      0.77     11880\n",
      "\n"
     ]
    }
   ],
   "source": [
    "#classfication report\n",
    "prediction=best_forest_model.predict(X_test)\n",
    "print(classification_report(y_test, prediction))"
   ],
   "metadata": {
    "collapsed": false,
    "pycharm": {
     "name": "#%%\n"
    }
   }
  },
  {
   "cell_type": "code",
   "execution_count": 40,
   "outputs": [],
   "source": [
    "#find most important features the model used to classification\n",
    "\n",
    "df_importance = pd.DataFrame(columns=['features', 'importance'])\n",
    "def select_best_tree_features(df,target_variable):\n",
    "\n",
    "    y = df[target_variable]\n",
    "    X = df.drop([target_variable], axis=1)\n",
    "    model = RandomForestClassifier(n_estimators = 1000, max_features='sqrt', max_depth=20, min_samples_split=4, random_state=12)\n",
    "    model.fit(X, y)\n",
    "    df_importance['features'] = model.feature_importances_\n",
    "    df_importance['importance'] = X.columns\n",
    "\n",
    "\n",
    "    return df_importance"
   ],
   "metadata": {
    "collapsed": false,
    "pycharm": {
     "name": "#%%\n"
    }
   }
  },
  {
   "cell_type": "code",
   "execution_count": 41,
   "outputs": [
    {
     "data": {
      "text/plain": "    features                     importance\n0   0.115621                  age_at_record\n1   0.003988                  funder_Danida\n2   0.013503  funder_Government Of Tanzania\n3   0.003426                  funder_Hesawa\n4   0.001371                    funder_Kkkt\n..       ...                            ...\n82  0.010769            public_meeting_True\n83  0.005127         public_meeting_Unknown\n84  0.012857                   permit_False\n85  0.013319                    permit_True\n86  0.005708                 permit_Unknown\n\n[87 rows x 2 columns]",
      "text/html": "<div>\n<style scoped>\n    .dataframe tbody tr th:only-of-type {\n        vertical-align: middle;\n    }\n\n    .dataframe tbody tr th {\n        vertical-align: top;\n    }\n\n    .dataframe thead th {\n        text-align: right;\n    }\n</style>\n<table border=\"1\" class=\"dataframe\">\n  <thead>\n    <tr style=\"text-align: right;\">\n      <th></th>\n      <th>features</th>\n      <th>importance</th>\n    </tr>\n  </thead>\n  <tbody>\n    <tr>\n      <th>0</th>\n      <td>0.115621</td>\n      <td>age_at_record</td>\n    </tr>\n    <tr>\n      <th>1</th>\n      <td>0.003988</td>\n      <td>funder_Danida</td>\n    </tr>\n    <tr>\n      <th>2</th>\n      <td>0.013503</td>\n      <td>funder_Government Of Tanzania</td>\n    </tr>\n    <tr>\n      <th>3</th>\n      <td>0.003426</td>\n      <td>funder_Hesawa</td>\n    </tr>\n    <tr>\n      <th>4</th>\n      <td>0.001371</td>\n      <td>funder_Kkkt</td>\n    </tr>\n    <tr>\n      <th>...</th>\n      <td>...</td>\n      <td>...</td>\n    </tr>\n    <tr>\n      <th>82</th>\n      <td>0.010769</td>\n      <td>public_meeting_True</td>\n    </tr>\n    <tr>\n      <th>83</th>\n      <td>0.005127</td>\n      <td>public_meeting_Unknown</td>\n    </tr>\n    <tr>\n      <th>84</th>\n      <td>0.012857</td>\n      <td>permit_False</td>\n    </tr>\n    <tr>\n      <th>85</th>\n      <td>0.013319</td>\n      <td>permit_True</td>\n    </tr>\n    <tr>\n      <th>86</th>\n      <td>0.005708</td>\n      <td>permit_Unknown</td>\n    </tr>\n  </tbody>\n</table>\n<p>87 rows × 2 columns</p>\n</div>"
     },
     "execution_count": 41,
     "metadata": {},
     "output_type": "execute_result"
    }
   ],
   "source": [
    "select_best_tree_features(dum_df, 'status_group')"
   ],
   "metadata": {
    "collapsed": false,
    "pycharm": {
     "name": "#%%\n"
    }
   }
  },
  {
   "cell_type": "code",
   "execution_count": 42,
   "outputs": [],
   "source": [
    "df_importance['splits'] = df_importance.importance.str.split('_', expand=True)[0]\n"
   ],
   "metadata": {
    "collapsed": false,
    "pycharm": {
     "name": "#%%\n"
    }
   }
  },
  {
   "cell_type": "code",
   "execution_count": 43,
   "outputs": [
    {
     "name": "stdout",
     "output_type": "stream",
     "text": [
      "    features                     importance  splits\n",
      "0   0.115621                  age_at_record     age\n",
      "1   0.003988                  funder_Danida  funder\n",
      "2   0.013503  funder_Government Of Tanzania  funder\n",
      "3   0.003426                  funder_Hesawa  funder\n",
      "4   0.001371                    funder_Kkkt  funder\n",
      "..       ...                            ...     ...\n",
      "82  0.010769            public_meeting_True  public\n",
      "83  0.005127         public_meeting_Unknown  public\n",
      "84  0.012857                   permit_False  permit\n",
      "85  0.013319                    permit_True  permit\n",
      "86  0.005708                 permit_Unknown  permit\n",
      "\n",
      "[87 rows x 3 columns]\n"
     ]
    }
   ],
   "source": [
    "print(df_importance)"
   ],
   "metadata": {
    "collapsed": false,
    "pycharm": {
     "name": "#%%\n"
    }
   }
  },
  {
   "cell_type": "code",
   "execution_count": 46,
   "outputs": [],
   "source": [
    "grouped_df = df_importance.groupby('splits').agg(aggregates=('features', 'sum'))\n"
   ],
   "metadata": {
    "collapsed": false,
    "pycharm": {
     "name": "#%%\n"
    }
   }
  },
  {
   "cell_type": "code",
   "execution_count": 47,
   "outputs": [],
   "source": [
    "calculated_list = grouped_df.aggregates.to_list()\n",
    "features_list =['Age of pump', 'Basin', 'Extraction Method', 'Funder', 'Installer', 'Payment method', 'Permit', 'Public meeting', 'Quality', 'Quantity', 'Scheme management', 'Source', 'Waterpoint type']"
   ],
   "metadata": {
    "collapsed": false,
    "pycharm": {
     "name": "#%%\n"
    }
   }
  },
  {
   "cell_type": "code",
   "execution_count": 57,
   "outputs": [],
   "source": [
    "dict = {'Features' : features_list, 'Relative Importance' : calculated_list}\n",
    "dfgraph = pd.DataFrame(dict)"
   ],
   "metadata": {
    "collapsed": false,
    "pycharm": {
     "name": "#%%\n"
    }
   }
  },
  {
   "cell_type": "code",
   "execution_count": 62,
   "outputs": [
    {
     "name": "stdout",
     "output_type": "stream",
     "text": [
      "             Features  Relative Importance\n",
      "0         Age of pump             0.115621\n",
      "1               Basin             0.079829\n",
      "2   Extraction Method             0.102851\n",
      "3              Funder             0.047755\n",
      "4           Installer             0.045445\n",
      "5      Payment method             0.075514\n",
      "6              Permit             0.031884\n",
      "7      Public meeting             0.024909\n",
      "8             Quality             0.031537\n",
      "9            Quantity             0.221812\n",
      "10  Scheme management             0.056772\n",
      "11             Source             0.054813\n",
      "12    Waterpoint type             0.111257\n"
     ]
    },
    {
     "data": {
      "text/plain": "<Figure size 1080x576 with 1 Axes>",
      "image/png": "[encoded data removed]"
     },
     "metadata": {},
     "output_type": "display_data"
    }
   ],
   "source": [
    "print(dfgraph)\n",
    "plt.subplots(figsize=(15,8))\n",
    "sns.barplot(x='Relative Importance', y='Features', data=dfgraph, order=dfgraph.sort_values('Relative Importance', ascending=False).Features )\n",
    "plt.savefig('sns.jpg', bbox_inches=\"tight\", pad_inches=0.1)"
   ],
   "metadata": {
    "collapsed": false,
    "pycharm": {
     "name": "#%%\n"
    }
   }
  },
  {
   "cell_type": "code",
   "execution_count": null,
   "outputs": [],
   "source": [
    "#submission to DrivenData"
   ],
   "metadata": {
    "collapsed": false,
    "pycharm": {
     "name": "#%%\n"
    }
   }
  },
  {
   "cell_type": "code",
   "execution_count": 69,
   "outputs": [
    {
     "name": "stdout",
     "output_type": "stream",
     "text": [
      "Index(['age_at_record', 'id', 'funder_Danida', 'funder_Government Of Tanzania',\n",
      "       'funder_Hesawa', 'funder_Kkkt', 'funder_Other', 'funder_Rwssp',\n",
      "       'funder_Unicef', 'funder_World Bank', 'funder_World Vision',\n",
      "       'installer_Commu', 'installer_DANIDA', 'installer_DWE',\n",
      "       'installer_Government', 'installer_Hesawa', 'installer_KKKT',\n",
      "       'installer_Other', 'installer_RWE', 'scheme_management_Company',\n",
      "       'scheme_management_Other', 'scheme_management_Parastatal',\n",
      "       'scheme_management_Private operator', 'scheme_management_VWC',\n",
      "       'scheme_management_WUA', 'scheme_management_WUG',\n",
      "       'scheme_management_Water Board', 'scheme_management_Water authority',\n",
      "       'extraction_type_group_afridev', 'extraction_type_group_gravity',\n",
      "       'extraction_type_group_india mark ii',\n",
      "       'extraction_type_group_india mark iii', 'extraction_type_group_mono',\n",
      "       'extraction_type_group_nira/tanira', 'extraction_type_group_other',\n",
      "       'extraction_type_group_other handpump',\n",
      "       'extraction_type_group_other motorpump',\n",
      "       'extraction_type_group_rope pump', 'extraction_type_group_submersible',\n",
      "       'extraction_type_group_swn 80', 'extraction_type_group_wind-powered',\n",
      "       'quality_group_colored', 'quality_group_fluoride', 'quality_group_good',\n",
      "       'quality_group_milky', 'quality_group_salty', 'quality_group_unknown',\n",
      "       'source_type_borehole', 'source_type_dam', 'source_type_other',\n",
      "       'source_type_rainwater harvesting', 'source_type_river/lake',\n",
      "       'source_type_shallow well', 'source_type_spring', 'quantity_dry',\n",
      "       'quantity_enough', 'quantity_insufficient', 'quantity_seasonal',\n",
      "       'quantity_unknown', 'payment_never pay', 'payment_other',\n",
      "       'payment_pay annually', 'payment_pay monthly', 'payment_pay per bucket',\n",
      "       'payment_pay when scheme fails', 'payment_unknown', 'basin_Internal',\n",
      "       'basin_Lake Nyasa', 'basin_Lake Rukwa', 'basin_Lake Tanganyika',\n",
      "       'basin_Lake Victoria', 'basin_Pangani', 'basin_Rufiji',\n",
      "       'basin_Ruvuma / Southern Coast', 'basin_Wami / Ruvu',\n",
      "       'waterpoint_type_cattle trough', 'waterpoint_type_communal standpipe',\n",
      "       'waterpoint_type_communal standpipe multiple', 'waterpoint_type_dam',\n",
      "       'waterpoint_type_hand pump', 'waterpoint_type_improved spring',\n",
      "       'waterpoint_type_other', 'public_meeting_False', 'public_meeting_True',\n",
      "       'public_meeting_Unknown', 'permit_False', 'permit_True',\n",
      "       'permit_Unknown'],\n",
      "      dtype='object')\n",
      "14850\n"
     ]
    }
   ],
   "source": [
    "#preparing data in correct format so submission\n",
    "sub_df = pd.read_csv(r'test_pump_model_data.csv')\n",
    "sub_dum_df = pd.get_dummies(sub_df, columns=['funder', 'installer', 'scheme_management', 'extraction_type_group',\n",
    "                                               'quality_group', 'source_type', 'quantity', 'payment', 'basin',\n",
    "                                               'waterpoint_type', 'public_meeting', 'permit'])\n",
    "print(sub_dum_df.columns)\n",
    "print(len(sub_dum_df))"
   ],
   "metadata": {
    "collapsed": false,
    "pycharm": {
     "name": "#%%\n"
    }
   }
  },
  {
   "cell_type": "code",
   "execution_count": 75,
   "outputs": [
    {
     "name": "stdout",
     "output_type": "stream",
     "text": [
      "Index(['status_group', 'age_at_record', 'funder_Danida',\n",
      "       'funder_Government Of Tanzania', 'funder_Hesawa', 'funder_Kkkt',\n",
      "       'funder_Other', 'funder_Rwssp', 'funder_Unicef', 'funder_World Bank',\n",
      "       'funder_World Vision', 'installer_Commu', 'installer_DANIDA',\n",
      "       'installer_DWE', 'installer_Government', 'installer_Hesawa',\n",
      "       'installer_KKKT', 'installer_Other', 'installer_RWE',\n",
      "       'scheme_management_Company', 'scheme_management_Other',\n",
      "       'scheme_management_Parastatal', 'scheme_management_Private operator',\n",
      "       'scheme_management_VWC', 'scheme_management_WUA',\n",
      "       'scheme_management_WUG', 'scheme_management_Water Board',\n",
      "       'scheme_management_Water authority', 'extraction_type_group_afridev',\n",
      "       'extraction_type_group_gravity', 'extraction_type_group_india mark ii',\n",
      "       'extraction_type_group_india mark iii', 'extraction_type_group_mono',\n",
      "       'extraction_type_group_nira/tanira', 'extraction_type_group_other',\n",
      "       'extraction_type_group_other handpump',\n",
      "       'extraction_type_group_other motorpump',\n",
      "       'extraction_type_group_rope pump', 'extraction_type_group_submersible',\n",
      "       'extraction_type_group_swn 80', 'extraction_type_group_wind-powered',\n",
      "       'quality_group_colored', 'quality_group_fluoride', 'quality_group_good',\n",
      "       'quality_group_milky', 'quality_group_salty', 'quality_group_unknown',\n",
      "       'source_type_borehole', 'source_type_dam', 'source_type_other',\n",
      "       'source_type_rainwater harvesting', 'source_type_river/lake',\n",
      "       'source_type_shallow well', 'source_type_spring', 'quantity_dry',\n",
      "       'quantity_enough', 'quantity_insufficient', 'quantity_seasonal',\n",
      "       'quantity_unknown', 'payment_never pay', 'payment_other',\n",
      "       'payment_pay annually', 'payment_pay monthly', 'payment_pay per bucket',\n",
      "       'payment_pay when scheme fails', 'payment_unknown', 'basin_Internal',\n",
      "       'basin_Lake Nyasa', 'basin_Lake Rukwa', 'basin_Lake Tanganyika',\n",
      "       'basin_Lake Victoria', 'basin_Pangani', 'basin_Rufiji',\n",
      "       'basin_Ruvuma / Southern Coast', 'basin_Wami / Ruvu',\n",
      "       'waterpoint_type_cattle trough', 'waterpoint_type_communal standpipe',\n",
      "       'waterpoint_type_communal standpipe multiple', 'waterpoint_type_dam',\n",
      "       'waterpoint_type_hand pump', 'waterpoint_type_improved spring',\n",
      "       'waterpoint_type_other', 'public_meeting_False', 'public_meeting_True',\n",
      "       'public_meeting_Unknown', 'permit_False', 'permit_True',\n",
      "       'permit_Unknown'],\n",
      "      dtype='object')\n",
      "[2 0 0 ... 0 0 2]\n"
     ]
    }
   ],
   "source": [
    "sub_dum_df['status_group'] = ''\n",
    "col1 = sub_dum_df.pop('status_group')\n",
    "sub_dum_df.insert(0, 'status_group', col1)\n",
    "#col_to_reorder = sub_dum_df.pop('id')\n",
    "#sub_dum_df.insert(0, 'id', col_to_reorder)\n",
    "print(sub_dum_df.columns)\n",
    "\n",
    "sub_dum_df.to_csv(r'test_data_for_ML_with_dummies.csv')\n",
    "test_X_data = sub_dum_df.iloc[:, 2:]\n",
    "\n",
    "predictions = best_forest_model.predict(test_X_data)\n",
    "print(predictions)"
   ],
   "metadata": {
    "collapsed": false,
    "pycharm": {
     "name": "#%%\n"
    }
   }
  },
  {
   "cell_type": "code",
   "execution_count": 76,
   "outputs": [
    {
     "name": "stdout",
     "output_type": "stream",
     "text": [
      "0        2\n",
      "1        0\n",
      "2        0\n",
      "3        2\n",
      "4        0\n",
      "        ..\n",
      "14845    2\n",
      "14846    0\n",
      "14847    0\n",
      "14848    0\n",
      "14849    2\n",
      "Name: status_group, Length: 14850, dtype: int8\n",
      "          id  status_group\n",
      "0      50785             2\n",
      "1      51630             0\n",
      "2      17168             0\n",
      "3      45559             2\n",
      "4      49871             0\n",
      "...      ...           ...\n",
      "14845  39307             2\n",
      "14846  18990             0\n",
      "14847  28749             0\n",
      "14848  33492             0\n",
      "14849  68707             2\n",
      "\n",
      "[14850 rows x 2 columns]\n",
      "          id    status_group\n",
      "0      50785  non functional\n",
      "1      51630      functional\n",
      "2      17168      functional\n",
      "3      45559  non functional\n",
      "4      49871      functional\n",
      "...      ...             ...\n",
      "14845  39307  non functional\n",
      "14846  18990      functional\n",
      "14847  28749      functional\n",
      "14848  33492      functional\n",
      "14849  68707  non functional\n",
      "\n",
      "[14850 rows x 2 columns]\n"
     ]
    }
   ],
   "source": [
    "\n",
    "sub_dum_df.status_group = predictions\n",
    "sub_dum_df['id'] = sub_df['id']\n",
    "print(sub_dum_df.status_group)\n",
    "sub = pd.read_csv(r'SubmissionFormat.csv')\n",
    "result_df = sub_dum_df[['id', 'status_group']].copy()\n",
    "print(result_df)\n",
    "\n",
    "result_df.status_group = result_df.status_group.replace(dict_cats)\n",
    "print(result_df)\n",
    "\n",
    "#creating .csv for submission\n",
    "result_df.to_csv(r'waterpump_submission_file.csv', index=False)"
   ],
   "metadata": {
    "collapsed": false,
    "pycharm": {
     "name": "#%%\n"
    }
   }
  },
  {
   "cell_type": "code",
   "execution_count": 28,
   "outputs": [],
   "source": [],
   "metadata": {
    "collapsed": false,
    "pycharm": {
     "name": "#%%\n"
    }
   }
  }
 ],
 "metadata": {
  "kernelspec": {
   "display_name": "Python 3",
   "language": "python",
   "name": "python3"
  },
  "language_info": {
   "codemirror_mode": {
    "name": "ipython",
    "version": 2
   },
   "file_extension": ".py",
   "mimetype": "text/x-python",
   "name": "python",
   "nbconvert_exporter": "python",
   "pygments_lexer": "ipython2",
   "version": "2.7.6"
  }
 },
 "nbformat": 4,
 "nbformat_minor": 0
}