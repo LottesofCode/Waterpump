{
 "cells": [
  {
   "cell_type": "code",
   "execution_count": 209,
   "metadata": {
    "collapsed": true,
    "pycharm": {
     "name": "#%%\n"
    }
   },
   "outputs": [],
   "source": [
    "import pandas as pd\n",
    "%matplotlib inline"
   ]
  },
  {
   "cell_type": "code",
   "execution_count": 210,
   "outputs": [],
   "source": [
    "#loading the data\n",
    "pump_data = pd.read_csv(r'Training_set_values.csv')\n",
    "labels = pd.read_csv(r'Training_set_labels.csv')\n"
   ],
   "metadata": {
    "collapsed": false,
    "pycharm": {
     "name": "#%%\n"
    }
   }
  },
  {
   "cell_type": "code",
   "execution_count": 211,
   "outputs": [
    {
     "data": {
      "text/plain": "      id  amount_tsh date_recorded        funder  gps_height     installer  \\\n0  69572      6000.0    2011-03-14         Roman        1390         Roman   \n1   8776         0.0    2013-03-06       Grumeti        1399       GRUMETI   \n2  34310        25.0    2013-02-25  Lottery Club         686  World vision   \n3  67743         0.0    2013-01-28        Unicef         263        UNICEF   \n4  19728         0.0    2011-07-13   Action In A           0       Artisan   \n\n   longitude   latitude              wpt_name  num_private  ... payment_type  \\\n0  34.938093  -9.856322                  none            0  ...     annually   \n1  34.698766  -2.147466              Zahanati            0  ...    never pay   \n2  37.460664  -3.821329           Kwa Mahundi            0  ...   per bucket   \n3  38.486161 -11.155298  Zahanati Ya Nanyumbu            0  ...    never pay   \n4  31.130847  -1.825359               Shuleni            0  ...    never pay   \n\n  water_quality quality_group      quantity  quantity_group  \\\n0          soft          good        enough          enough   \n1          soft          good  insufficient    insufficient   \n2          soft          good        enough          enough   \n3          soft          good           dry             dry   \n4          soft          good      seasonal        seasonal   \n\n                 source           source_type  source_class  \\\n0                spring                spring   groundwater   \n1  rainwater harvesting  rainwater harvesting       surface   \n2                   dam                   dam       surface   \n3           machine dbh              borehole   groundwater   \n4  rainwater harvesting  rainwater harvesting       surface   \n\n               waterpoint_type waterpoint_type_group  \n0           communal standpipe    communal standpipe  \n1           communal standpipe    communal standpipe  \n2  communal standpipe multiple    communal standpipe  \n3  communal standpipe multiple    communal standpipe  \n4           communal standpipe    communal standpipe  \n\n[5 rows x 40 columns]",
      "text/html": "<div>\n<style scoped>\n    .dataframe tbody tr th:only-of-type {\n        vertical-align: middle;\n    }\n\n    .dataframe tbody tr th {\n        vertical-align: top;\n    }\n\n    .dataframe thead th {\n        text-align: right;\n    }\n</style>\n<table border=\"1\" class=\"dataframe\">\n  <thead>\n    <tr style=\"text-align: right;\">\n      <th></th>\n      <th>id</th>\n      <th>amount_tsh</th>\n      <th>date_recorded</th>\n      <th>funder</th>\n      <th>gps_height</th>\n      <th>installer</th>\n      <th>longitude</th>\n      <th>latitude</th>\n      <th>wpt_name</th>\n      <th>num_private</th>\n      <th>...</th>\n      <th>payment_type</th>\n      <th>water_quality</th>\n      <th>quality_group</th>\n      <th>quantity</th>\n      <th>quantity_group</th>\n      <th>source</th>\n      <th>source_type</th>\n      <th>source_class</th>\n      <th>waterpoint_type</th>\n      <th>waterpoint_type_group</th>\n    </tr>\n  </thead>\n  <tbody>\n    <tr>\n      <th>0</th>\n      <td>69572</td>\n      <td>6000.0</td>\n      <td>2011-03-14</td>\n      <td>Roman</td>\n      <td>1390</td>\n      <td>Roman</td>\n      <td>34.938093</td>\n      <td>-9.856322</td>\n      <td>none</td>\n      <td>0</td>\n      <td>...</td>\n      <td>annually</td>\n      <td>soft</td>\n      <td>good</td>\n      <td>enough</td>\n      <td>enough</td>\n      <td>spring</td>\n      <td>spring</td>\n      <td>groundwater</td>\n      <td>communal standpipe</td>\n      <td>communal standpipe</td>\n    </tr>\n    <tr>\n      <th>1</th>\n      <td>8776</td>\n      <td>0.0</td>\n      <td>2013-03-06</td>\n      <td>Grumeti</td>\n      <td>1399</td>\n      <td>GRUMETI</td>\n      <td>34.698766</td>\n      <td>-2.147466</td>\n      <td>Zahanati</td>\n      <td>0</td>\n      <td>...</td>\n      <td>never pay</td>\n      <td>soft</td>\n      <td>good</td>\n      <td>insufficient</td>\n      <td>insufficient</td>\n      <td>rainwater harvesting</td>\n      <td>rainwater harvesting</td>\n      <td>surface</td>\n      <td>communal standpipe</td>\n      <td>communal standpipe</td>\n    </tr>\n    <tr>\n      <th>2</th>\n      <td>34310</td>\n      <td>25.0</td>\n      <td>2013-02-25</td>\n      <td>Lottery Club</td>\n      <td>686</td>\n      <td>World vision</td>\n      <td>37.460664</td>\n      <td>-3.821329</td>\n      <td>Kwa Mahundi</td>\n      <td>0</td>\n      <td>...</td>\n      <td>per bucket</td>\n      <td>soft</td>\n      <td>good</td>\n      <td>enough</td>\n      <td>enough</td>\n      <td>dam</td>\n      <td>dam</td>\n      <td>surface</td>\n      <td>communal standpipe multiple</td>\n      <td>communal standpipe</td>\n    </tr>\n    <tr>\n      <th>3</th>\n      <td>67743</td>\n      <td>0.0</td>\n      <td>2013-01-28</td>\n      <td>Unicef</td>\n      <td>263</td>\n      <td>UNICEF</td>\n      <td>38.486161</td>\n      <td>-11.155298</td>\n      <td>Zahanati Ya Nanyumbu</td>\n      <td>0</td>\n      <td>...</td>\n      <td>never pay</td>\n      <td>soft</td>\n      <td>good</td>\n      <td>dry</td>\n      <td>dry</td>\n      <td>machine dbh</td>\n      <td>borehole</td>\n      <td>groundwater</td>\n      <td>communal standpipe multiple</td>\n      <td>communal standpipe</td>\n    </tr>\n    <tr>\n      <th>4</th>\n      <td>19728</td>\n      <td>0.0</td>\n      <td>2011-07-13</td>\n      <td>Action In A</td>\n      <td>0</td>\n      <td>Artisan</td>\n      <td>31.130847</td>\n      <td>-1.825359</td>\n      <td>Shuleni</td>\n      <td>0</td>\n      <td>...</td>\n      <td>never pay</td>\n      <td>soft</td>\n      <td>good</td>\n      <td>seasonal</td>\n      <td>seasonal</td>\n      <td>rainwater harvesting</td>\n      <td>rainwater harvesting</td>\n      <td>surface</td>\n      <td>communal standpipe</td>\n      <td>communal standpipe</td>\n    </tr>\n  </tbody>\n</table>\n<p>5 rows × 40 columns</p>\n</div>"
     },
     "metadata": {},
     "output_type": "display_data"
    },
    {
     "data": {
      "text/plain": "      id    status_group\n0  69572      functional\n1   8776      functional\n2  34310      functional\n3  67743  non functional\n4  19728      functional",
      "text/html": "<div>\n<style scoped>\n    .dataframe tbody tr th:only-of-type {\n        vertical-align: middle;\n    }\n\n    .dataframe tbody tr th {\n        vertical-align: top;\n    }\n\n    .dataframe thead th {\n        text-align: right;\n    }\n</style>\n<table border=\"1\" class=\"dataframe\">\n  <thead>\n    <tr style=\"text-align: right;\">\n      <th></th>\n      <th>id</th>\n      <th>status_group</th>\n    </tr>\n  </thead>\n  <tbody>\n    <tr>\n      <th>0</th>\n      <td>69572</td>\n      <td>functional</td>\n    </tr>\n    <tr>\n      <th>1</th>\n      <td>8776</td>\n      <td>functional</td>\n    </tr>\n    <tr>\n      <th>2</th>\n      <td>34310</td>\n      <td>functional</td>\n    </tr>\n    <tr>\n      <th>3</th>\n      <td>67743</td>\n      <td>non functional</td>\n    </tr>\n    <tr>\n      <th>4</th>\n      <td>19728</td>\n      <td>functional</td>\n    </tr>\n  </tbody>\n</table>\n</div>"
     },
     "metadata": {},
     "output_type": "display_data"
    }
   ],
   "source": [
    "#initial look at the data\n",
    "display(pump_data.head(5))\n",
    "display(labels.head(5))\n"
   ],
   "metadata": {
    "collapsed": false,
    "pycharm": {
     "name": "#%%\n"
    }
   }
  },
  {
   "cell_type": "code",
   "execution_count": 212,
   "outputs": [
    {
     "name": "stdout",
     "output_type": "stream",
     "text": [
      "(59400, 41)\n"
     ]
    }
   ],
   "source": [
    "#merge the data into one dataframe\n",
    "pump_df = pd.merge(pump_data, labels, on='id')\n",
    "print(pump_df.shape)\n",
    "\n",
    "prediction_columns = []\n"
   ],
   "metadata": {
    "collapsed": false,
    "pycharm": {
     "name": "#%%\n"
    }
   }
  },
  {
   "cell_type": "markdown",
   "source": [
    "### Checking null values in the dataframe\n"
   ],
   "metadata": {
    "collapsed": false,
    "pycharm": {
     "name": "#%% md\n"
    }
   }
  },
  {
   "cell_type": "code",
   "execution_count": 213,
   "outputs": [
    {
     "name": "stdout",
     "output_type": "stream",
     "text": [
      "id                           0\n",
      "amount_tsh                   0\n",
      "date_recorded                0\n",
      "funder                    3635\n",
      "gps_height                   0\n",
      "installer                 3655\n",
      "longitude                    0\n",
      "latitude                     0\n",
      "wpt_name                     0\n",
      "num_private                  0\n",
      "basin                        0\n",
      "subvillage                 371\n",
      "region                       0\n",
      "region_code                  0\n",
      "district_code                0\n",
      "lga                          0\n",
      "ward                         0\n",
      "population                   0\n",
      "public_meeting            3334\n",
      "recorded_by                  0\n",
      "scheme_management         3877\n",
      "scheme_name              28166\n",
      "permit                    3056\n",
      "construction_year            0\n",
      "extraction_type              0\n",
      "extraction_type_group        0\n",
      "extraction_type_class        0\n",
      "management                   0\n",
      "management_group             0\n",
      "payment                      0\n",
      "payment_type                 0\n",
      "water_quality                0\n",
      "quality_group                0\n",
      "quantity                     0\n",
      "quantity_group               0\n",
      "source                       0\n",
      "source_type                  0\n",
      "source_class                 0\n",
      "waterpoint_type              0\n",
      "waterpoint_type_group        0\n",
      "status_group                 0\n",
      "dtype: int64\n"
     ]
    }
   ],
   "source": [
    "#check null values\n",
    "nulls = (pump_df.isnull().sum(axis=0))\n",
    "print(nulls)"
   ],
   "metadata": {
    "collapsed": false,
    "pycharm": {
     "name": "#%%\n"
    }
   }
  },
  {
   "cell_type": "code",
   "execution_count": 214,
   "outputs": [
    {
     "name": "stdout",
     "output_type": "stream",
     "text": [
      "Columns containing null values are: ['funder', 'installer', 'subvillage', 'public_meeting', 'scheme_management', 'scheme_name', 'permit']\n"
     ]
    }
   ],
   "source": [
    "nan_col = [i for i in pump_df.columns if pump_df[i].isnull().any()]\n",
    "print(f'Columns containing null values are: {nan_col}')"
   ],
   "metadata": {
    "collapsed": false,
    "pycharm": {
     "name": "#%%\n"
    }
   }
  },
  {
   "cell_type": "code",
   "execution_count": 215,
   "outputs": [],
   "source": [
    "#function for changing null values with the above columns\n",
    "\n",
    "def check_change_null_values(df, col, no_top ):\n",
    "    top = df[col].value_counts().nlargest(no_top).index.tolist()\n",
    "    print(f\"The top {[col]}, from {df[col].nunique()} unique {col} are:\\n{top}\")\n",
    "\n",
    "    df.loc[~df[col].isin(top), [col]] = 'Other'\n",
    "    print(f'\\nThe resulting classifications are:\\n{df[col].value_counts()}')"
   ],
   "metadata": {
    "collapsed": false,
    "pycharm": {
     "name": "#%%\n"
    }
   }
  },
  {
   "cell_type": "markdown",
   "source": [
    "#### Funding"
   ],
   "metadata": {
    "collapsed": false,
    "pycharm": {
     "name": "#%% md\n"
    }
   }
  },
  {
   "cell_type": "code",
   "execution_count": 216,
   "outputs": [
    {
     "name": "stdout",
     "output_type": "stream",
     "text": [
      "The top ['funder'], from 1897 unique funder are:\n",
      "['Government Of Tanzania', 'Danida', 'Hesawa', 'Rwssp', 'World Bank', 'Kkkt', 'World Vision', 'Unicef']\n",
      "\n",
      "The resulting classifications are:\n",
      "Other                     38687\n",
      "Government Of Tanzania     9084\n",
      "Danida                     3114\n",
      "Hesawa                     2202\n",
      "Rwssp                      1374\n",
      "World Bank                 1349\n",
      "Kkkt                       1287\n",
      "World Vision               1246\n",
      "Unicef                     1057\n",
      "Name: funder, dtype: int64\n"
     ]
    }
   ],
   "source": [
    "#use top 8 funders and classify the rest as other\n",
    "check_change_null_values(pump_df, 'funder', 8)\n",
    "\n",
    "prediction_columns.append('funder')"
   ],
   "metadata": {
    "collapsed": false,
    "pycharm": {
     "name": "#%%\n"
    }
   }
  },
  {
   "cell_type": "markdown",
   "source": [
    "#### Installation\n"
   ],
   "metadata": {
    "collapsed": false,
    "pycharm": {
     "name": "#%% md\n"
    }
   }
  },
  {
   "cell_type": "code",
   "execution_count": 217,
   "outputs": [
    {
     "name": "stdout",
     "output_type": "stream",
     "text": [
      "2145\n",
      "DWE                17402\n",
      "Government          1825\n",
      "RWE                 1206\n",
      "Commu               1060\n",
      "DANIDA              1050\n",
      "                   ...  \n",
      "Wizara  ya maji        1\n",
      "TWESS                  1\n",
      "Nasan workers          1\n",
      "R                      1\n",
      "SELEPTA                1\n",
      "Name: installer, Length: 2145, dtype: int64\n"
     ]
    }
   ],
   "source": [
    "print(pump_df.installer.nunique())\n",
    "print(pump_df.installer.value_counts())\n",
    "#Could use top 8 again (in line with funders) however the 8th value is '0' which represents an unknown. Therefore, installers falling outside the top 7 will be classified as 'Other'"
   ],
   "metadata": {
    "collapsed": false,
    "pycharm": {
     "name": "#%%\n"
    }
   }
  },
  {
   "cell_type": "code",
   "execution_count": 218,
   "outputs": [
    {
     "name": "stdout",
     "output_type": "stream",
     "text": [
      "The top ['installer'], from 2145 unique installer are:\n",
      "['DWE', 'Government', 'RWE', 'Commu', 'DANIDA', 'KKKT', 'Hesawa']\n",
      "\n",
      "The resulting classifications are:\n",
      "Other         35119\n",
      "DWE           17402\n",
      "Government     1825\n",
      "RWE            1206\n",
      "Commu          1060\n",
      "DANIDA         1050\n",
      "KKKT            898\n",
      "Hesawa          840\n",
      "Name: installer, dtype: int64\n"
     ]
    }
   ],
   "source": [
    "check_change_null_values(pump_df, 'installer', 7)\n",
    "\n",
    "prediction_columns.append('installer')\n"
   ],
   "metadata": {
    "collapsed": false,
    "pycharm": {
     "name": "#%%\n"
    }
   }
  },
  {
   "cell_type": "markdown",
   "source": [
    "#### Sub village"
   ],
   "metadata": {
    "collapsed": false,
    "pycharm": {
     "name": "#%% md\n"
    }
   }
  },
  {
   "cell_type": "code",
   "execution_count": 219,
   "outputs": [
    {
     "name": "stdout",
     "output_type": "stream",
     "text": [
      "Madukani        508\n",
      "Shuleni         506\n",
      "Majengo         502\n",
      "Kati            373\n",
      "Mtakuja         262\n",
      "               ... \n",
      "Kipompo           1\n",
      "Chanyamilima      1\n",
      "Ikalime           1\n",
      "Kemagaka          1\n",
      "Kikatanyemba      1\n",
      "Name: subvillage, Length: 19287, dtype: int64\n",
      "19287\n",
      "371\n"
     ]
    }
   ],
   "source": [
    "print(pump_df.subvillage.value_counts())\n",
    "print(pump_df.subvillage.nunique())\n",
    "print(pump_df.subvillage.isnull().sum())"
   ],
   "metadata": {
    "collapsed": false,
    "pycharm": {
     "name": "#%%\n"
    }
   }
  },
  {
   "cell_type": "code",
   "execution_count": 220,
   "outputs": [
    {
     "name": "stdout",
     "output_type": "stream",
     "text": [
      "There are 19287 unique sub-villages listed within the dataframe.  As no one sub-village dominates the values, this column will be ignored in the predictions - as there will be too many variables to work with.\n"
     ]
    }
   ],
   "source": [
    "print(f'There are {pump_df.subvillage.nunique()} unique sub-villages listed within the dataframe.  As no one sub-village dominates the values, this column will be ignored in the predictions - as there will be too many variables to work with.')"
   ],
   "metadata": {
    "collapsed": false,
    "pycharm": {
     "name": "#%%\n"
    }
   }
  },
  {
   "cell_type": "markdown",
   "source": [
    "#### Public meeting"
   ],
   "metadata": {
    "collapsed": false,
    "pycharm": {
     "name": "#%% md\n"
    }
   }
  },
  {
   "cell_type": "code",
   "execution_count": 221,
   "outputs": [
    {
     "name": "stdout",
     "output_type": "stream",
     "text": [
      "True     51011\n",
      "False     5055\n",
      "Name: public_meeting, dtype: int64\n",
      "2\n",
      "3334\n"
     ]
    }
   ],
   "source": [
    "print(pump_df.public_meeting.value_counts())\n",
    "print(pump_df.public_meeting.nunique())\n",
    "print(pump_df.public_meeting.isnull().sum())"
   ],
   "metadata": {
    "collapsed": false,
    "pycharm": {
     "name": "#%%\n"
    }
   }
  },
  {
   "cell_type": "code",
   "execution_count": 222,
   "outputs": [
    {
     "name": "stdout",
     "output_type": "stream",
     "text": [
      "0\n",
      "0           True\n",
      "1        Unknown\n",
      "2           True\n",
      "3           True\n",
      "4           True\n",
      "          ...   \n",
      "59395       True\n",
      "59396       True\n",
      "59397       True\n",
      "59398       True\n",
      "59399       True\n",
      "Name: public_meeting, Length: 59400, dtype: object\n"
     ]
    }
   ],
   "source": [
    "#This variable will need more investigation to see if it is worth including in the predictions. For now, the null values will be changed to \"Unknown\"\n",
    "\n",
    "pump_df.public_meeting.fillna('Unknown', inplace=True)\n",
    "print(pump_df.public_meeting.isnull().sum())\n",
    "print(pump_df.public_meeting)\n",
    "\n",
    "investigate_columns = []\n",
    "investigate_columns.append('public_meeting')"
   ],
   "metadata": {
    "collapsed": false,
    "pycharm": {
     "name": "#%%\n"
    }
   }
  },
  {
   "cell_type": "markdown",
   "source": [
    "#### Scheme management"
   ],
   "metadata": {
    "collapsed": false,
    "pycharm": {
     "name": "#%% md\n"
    }
   }
  },
  {
   "cell_type": "code",
   "execution_count": 223,
   "outputs": [
    {
     "name": "stdout",
     "output_type": "stream",
     "text": [
      "VWC                 36793\n",
      "WUG                  5206\n",
      "Water authority      3153\n",
      "WUA                  2883\n",
      "Water Board          2748\n",
      "Parastatal           1680\n",
      "Private operator     1063\n",
      "Company              1061\n",
      "Other                 766\n",
      "SWC                    97\n",
      "Trust                  72\n",
      "None                    1\n",
      "Name: scheme_management, dtype: int64\n",
      "12\n",
      "3877\n"
     ]
    }
   ],
   "source": [
    "print(pump_df.scheme_management.value_counts())\n",
    "print(pump_df.scheme_management.nunique())\n",
    "print(pump_df.scheme_management.isnull().sum())"
   ],
   "metadata": {
    "collapsed": false,
    "pycharm": {
     "name": "#%%\n"
    }
   }
  },
  {
   "cell_type": "code",
   "execution_count": 224,
   "outputs": [
    {
     "name": "stdout",
     "output_type": "stream",
     "text": [
      "The top ['scheme_management'], from 12 unique scheme_management are:\n",
      "['VWC', 'WUG', 'Water authority', 'WUA', 'Water Board', 'Parastatal', 'Private operator', 'Company']\n",
      "\n",
      "The resulting classifications are:\n",
      "VWC                 36793\n",
      "WUG                  5206\n",
      "Other                4813\n",
      "Water authority      3153\n",
      "WUA                  2883\n",
      "Water Board          2748\n",
      "Parastatal           1680\n",
      "Private operator     1063\n",
      "Company              1061\n",
      "Name: scheme_management, dtype: int64\n"
     ]
    }
   ],
   "source": [
    "#There are 12 unique variables. Any below \"Other\" (the top 8) will be combined into \"Other\"\n",
    "check_change_null_values(pump_df, 'scheme_management', 8)"
   ],
   "metadata": {
    "collapsed": false,
    "pycharm": {
     "name": "#%%\n"
    }
   }
  },
  {
   "cell_type": "code",
   "execution_count": 225,
   "outputs": [],
   "source": [
    "prediction_columns.append('scheme_management')"
   ],
   "metadata": {
    "collapsed": false,
    "pycharm": {
     "name": "#%%\n"
    }
   }
  },
  {
   "cell_type": "markdown",
   "source": [
    "#### Scheme name"
   ],
   "metadata": {
    "collapsed": false,
    "pycharm": {
     "name": "#%% md\n"
    }
   }
  },
  {
   "cell_type": "code",
   "execution_count": 226,
   "outputs": [
    {
     "name": "stdout",
     "output_type": "stream",
     "text": [
      "K                       682\n",
      "None                    644\n",
      "Borehole                546\n",
      "Chalinze wate           405\n",
      "M                       400\n",
      "                       ... \n",
      "Mradi wa maji Vijini      1\n",
      "Villagers                 1\n",
      "Magundi water supply      1\n",
      "Saadani Chumv             1\n",
      "Mtawanya                  1\n",
      "Name: scheme_name, Length: 2696, dtype: int64\n",
      "2696\n",
      "28166\n"
     ]
    }
   ],
   "source": [
    "print(pump_df.scheme_name.value_counts())\n",
    "print(pump_df.scheme_name.nunique())\n",
    "print(pump_df.scheme_name.isnull().sum())"
   ],
   "metadata": {
    "collapsed": false,
    "pycharm": {
     "name": "#%%\n"
    }
   }
  },
  {
   "cell_type": "code",
   "execution_count": 227,
   "outputs": [
    {
     "name": "stdout",
     "output_type": "stream",
     "text": [
      "There are 2696 unique schemes listed within the dataframe along with 28166 null values.  As no one scheme dominates the values and there are many unknowns, this column will be ignored in the predictions - as there will be too many variables to work with.\n"
     ]
    }
   ],
   "source": [
    "print(f'There are {pump_df.scheme_name.nunique()} unique schemes listed within the dataframe along with {pump_df.scheme_name.isnull().sum()} null values.  As no one scheme dominates the values and there are many unknowns, this column will be ignored in the predictions - as there will be too many variables to work with.')"
   ],
   "metadata": {
    "collapsed": false,
    "pycharm": {
     "name": "#%%\n"
    }
   }
  },
  {
   "cell_type": "markdown",
   "source": [
    "#### Permit"
   ],
   "metadata": {
    "collapsed": false,
    "pycharm": {
     "name": "#%% md\n"
    }
   }
  },
  {
   "cell_type": "code",
   "execution_count": 228,
   "outputs": [
    {
     "name": "stdout",
     "output_type": "stream",
     "text": [
      "True     38852\n",
      "False    17492\n",
      "Name: permit, dtype: int64\n",
      "2\n",
      "3056\n"
     ]
    }
   ],
   "source": [
    "print(pump_df.permit.value_counts())\n",
    "print(pump_df.permit.nunique())\n",
    "print(pump_df.permit.isnull().sum())\n",
    "\n",
    "#this column can be treated in a similar manner to the public meeting column"
   ],
   "metadata": {
    "collapsed": false,
    "pycharm": {
     "name": "#%%\n"
    }
   }
  },
  {
   "cell_type": "code",
   "execution_count": 229,
   "outputs": [
    {
     "name": "stdout",
     "output_type": "stream",
     "text": [
      "0\n",
      "0        False\n",
      "1         True\n",
      "2         True\n",
      "3         True\n",
      "4         True\n",
      "         ...  \n",
      "59395     True\n",
      "59396     True\n",
      "59397    False\n",
      "59398     True\n",
      "59399     True\n",
      "Name: permit, Length: 59400, dtype: object\n"
     ]
    }
   ],
   "source": [
    "pump_df.permit.fillna('Unknown', inplace=True)\n",
    "print(pump_df.permit.isnull().sum())\n",
    "print(pump_df.permit)\n",
    "\n",
    "investigate_columns.append('permit')"
   ],
   "metadata": {
    "collapsed": false,
    "pycharm": {
     "name": "#%%\n"
    }
   }
  },
  {
   "cell_type": "markdown",
   "source": [
    "## Columns with string values"
   ],
   "metadata": {
    "collapsed": false,
    "pycharm": {
     "name": "#%% md\n"
    }
   }
  },
  {
   "cell_type": "code",
   "execution_count": 230,
   "outputs": [
    {
     "name": "stdout",
     "output_type": "stream",
     "text": [
      "id                         int64\n",
      "amount_tsh               float64\n",
      "date_recorded             object\n",
      "funder                    object\n",
      "gps_height                 int64\n",
      "installer                 object\n",
      "longitude                float64\n",
      "latitude                 float64\n",
      "wpt_name                  object\n",
      "num_private                int64\n",
      "basin                     object\n",
      "subvillage                object\n",
      "region                    object\n",
      "region_code                int64\n",
      "district_code              int64\n",
      "lga                       object\n",
      "ward                      object\n",
      "population                 int64\n",
      "public_meeting            object\n",
      "recorded_by               object\n",
      "scheme_management         object\n",
      "scheme_name               object\n",
      "permit                    object\n",
      "construction_year          int64\n",
      "extraction_type           object\n",
      "extraction_type_group     object\n",
      "extraction_type_class     object\n",
      "management                object\n",
      "management_group          object\n",
      "payment                   object\n",
      "payment_type              object\n",
      "water_quality             object\n",
      "quality_group             object\n",
      "quantity                  object\n",
      "quantity_group            object\n",
      "source                    object\n",
      "source_type               object\n",
      "source_class              object\n",
      "waterpoint_type           object\n",
      "waterpoint_type_group     object\n",
      "status_group              object\n",
      "dtype: object\n"
     ]
    }
   ],
   "source": [
    "print(pump_df.dtypes)"
   ],
   "metadata": {
    "collapsed": false,
    "pycharm": {
     "name": "#%%\n"
    }
   }
  },
  {
   "cell_type": "code",
   "execution_count": 231,
   "outputs": [
    {
     "name": "stdout",
     "output_type": "stream",
     "text": [
      "['date_recorded', 'funder', 'installer', 'wpt_name', 'basin', 'subvillage', 'region', 'lga', 'ward', 'public_meeting', 'recorded_by', 'scheme_management', 'scheme_name', 'permit', 'extraction_type', 'extraction_type_group', 'extraction_type_class', 'management', 'management_group', 'payment', 'payment_type', 'water_quality', 'quality_group', 'quantity', 'quantity_group', 'source', 'source_type', 'source_class', 'waterpoint_type', 'waterpoint_type_group', 'status_group']\n"
     ]
    }
   ],
   "source": [
    "string_col = [i for i in pump_df.columns if pump_df[i].dtypes == 'object']\n",
    "print(string_col)"
   ],
   "metadata": {
    "collapsed": false,
    "pycharm": {
     "name": "#%%\n"
    }
   }
  },
  {
   "cell_type": "code",
   "execution_count": 232,
   "outputs": [
    {
     "name": "stdout",
     "output_type": "stream",
     "text": [
      "{'recorded_by', 'extraction_type', 'status_group', 'management', 'management_group', 'source_type', 'quantity_group', 'source', 'extraction_type_group', 'source_class', 'quality_group', 'waterpoint_type_group', 'date_recorded', 'ward', 'region', 'basin', 'water_quality', 'payment_type', 'waterpoint_type', 'wpt_name', 'quantity', 'payment', 'extraction_type_class', 'lga'}\n",
      "24\n",
      "7\n",
      "31\n"
     ]
    }
   ],
   "source": [
    "string_col_sort = set(string_col) - set(nan_col)\n",
    "print(string_col_sort)\n",
    "print(len(string_col_sort))\n",
    "print(len(nan_col))\n",
    "print(len(string_col))"
   ],
   "metadata": {
    "collapsed": false,
    "pycharm": {
     "name": "#%%\n"
    }
   }
  },
  {
   "cell_type": "markdown",
   "source": [
    "#### Extraction type / extraction type class / extraction type group\n"
   ],
   "metadata": {
    "collapsed": false,
    "pycharm": {
     "name": "#%% md\n"
    }
   }
  },
  {
   "cell_type": "code",
   "execution_count": 233,
   "outputs": [
    {
     "name": "stdout",
     "output_type": "stream",
     "text": [
      "gravity                      26780\n",
      "nira/tanira                   8154\n",
      "other                         6430\n",
      "submersible                   4764\n",
      "swn 80                        3670\n",
      "mono                          2865\n",
      "india mark ii                 2400\n",
      "afridev                       1770\n",
      "ksb                           1415\n",
      "other - rope pump              451\n",
      "other - swn 81                 229\n",
      "windmill                       117\n",
      "india mark iii                  98\n",
      "cemo                            90\n",
      "other - play pump               85\n",
      "walimi                          48\n",
      "climax                          32\n",
      "other - mkulima/shinyanga        2\n",
      "Name: extraction_type, dtype: int64\n",
      "gravity            26780\n",
      "nira/tanira         8154\n",
      "other               6430\n",
      "submersible         6179\n",
      "swn 80              3670\n",
      "mono                2865\n",
      "india mark ii       2400\n",
      "afridev             1770\n",
      "rope pump            451\n",
      "other handpump       364\n",
      "other motorpump      122\n",
      "wind-powered         117\n",
      "india mark iii        98\n",
      "Name: extraction_type_group, dtype: int64\n",
      "gravity         26780\n",
      "handpump        16456\n",
      "other            6430\n",
      "submersible      6179\n",
      "motorpump        2987\n",
      "rope pump         451\n",
      "wind-powered      117\n",
      "Name: extraction_type_class, dtype: int64\n",
      "18\n",
      "13\n",
      "7\n"
     ]
    }
   ],
   "source": [
    "#the kind of extraction the water pump uses\n",
    "print(pump_df.extraction_type.value_counts())\n",
    "print(pump_df.extraction_type_group.value_counts())\n",
    "print(pump_df.extraction_type_class.value_counts())\n",
    "print(pump_df.extraction_type.nunique())\n",
    "print(pump_df.extraction_type_group.nunique())\n",
    "print(pump_df.extraction_type_class.nunique())"
   ],
   "metadata": {
    "collapsed": false,
    "pycharm": {
     "name": "#%%\n"
    }
   }
  },
  {
   "cell_type": "code",
   "execution_count": 234,
   "outputs": [
    {
     "name": "stdout",
     "output_type": "stream",
     "text": [
      "These columns all contain the same information, but appears to have been further sorted which iteration. Therefore is seems sensible to use the extraction_type_group column in predictions to reduce the number of variables.\n"
     ]
    }
   ],
   "source": [
    "print('These columns all contain the same information, but appears to have been further sorted which iteration. Therefore is seems sensible to use the extraction_type_group column in predictions to reduce the number of variables.')"
   ],
   "metadata": {
    "collapsed": false,
    "pycharm": {
     "name": "#%%\n"
    }
   }
  },
  {
   "cell_type": "code",
   "execution_count": 235,
   "outputs": [],
   "source": [
    "prediction_columns.append('extraction_type_group')"
   ],
   "metadata": {
    "collapsed": false,
    "pycharm": {
     "name": "#%%\n"
    }
   }
  },
  {
   "cell_type": "markdown",
   "source": [
    "#### Management"
   ],
   "metadata": {
    "collapsed": false,
    "pycharm": {
     "name": "#%% md\n"
    }
   }
  },
  {
   "cell_type": "code",
   "execution_count": 236,
   "outputs": [
    {
     "data": {
      "text/plain": "      scheme_management   management management_group\n0                   VWC          vwc       user-group\n1                 Other          wug       user-group\n2                   VWC          vwc       user-group\n3                   VWC          vwc       user-group\n4                 Other        other            other\n...                 ...          ...              ...\n59395       Water Board  water board       user-group\n59396               VWC          vwc       user-group\n59397               VWC          vwc       user-group\n59398               VWC          vwc       user-group\n59399               VWC          vwc       user-group\n\n[59400 rows x 3 columns]",
      "text/html": "<div>\n<style scoped>\n    .dataframe tbody tr th:only-of-type {\n        vertical-align: middle;\n    }\n\n    .dataframe tbody tr th {\n        vertical-align: top;\n    }\n\n    .dataframe thead th {\n        text-align: right;\n    }\n</style>\n<table border=\"1\" class=\"dataframe\">\n  <thead>\n    <tr style=\"text-align: right;\">\n      <th></th>\n      <th>scheme_management</th>\n      <th>management</th>\n      <th>management_group</th>\n    </tr>\n  </thead>\n  <tbody>\n    <tr>\n      <th>0</th>\n      <td>VWC</td>\n      <td>vwc</td>\n      <td>user-group</td>\n    </tr>\n    <tr>\n      <th>1</th>\n      <td>Other</td>\n      <td>wug</td>\n      <td>user-group</td>\n    </tr>\n    <tr>\n      <th>2</th>\n      <td>VWC</td>\n      <td>vwc</td>\n      <td>user-group</td>\n    </tr>\n    <tr>\n      <th>3</th>\n      <td>VWC</td>\n      <td>vwc</td>\n      <td>user-group</td>\n    </tr>\n    <tr>\n      <th>4</th>\n      <td>Other</td>\n      <td>other</td>\n      <td>other</td>\n    </tr>\n    <tr>\n      <th>...</th>\n      <td>...</td>\n      <td>...</td>\n      <td>...</td>\n    </tr>\n    <tr>\n      <th>59395</th>\n      <td>Water Board</td>\n      <td>water board</td>\n      <td>user-group</td>\n    </tr>\n    <tr>\n      <th>59396</th>\n      <td>VWC</td>\n      <td>vwc</td>\n      <td>user-group</td>\n    </tr>\n    <tr>\n      <th>59397</th>\n      <td>VWC</td>\n      <td>vwc</td>\n      <td>user-group</td>\n    </tr>\n    <tr>\n      <th>59398</th>\n      <td>VWC</td>\n      <td>vwc</td>\n      <td>user-group</td>\n    </tr>\n    <tr>\n      <th>59399</th>\n      <td>VWC</td>\n      <td>vwc</td>\n      <td>user-group</td>\n    </tr>\n  </tbody>\n</table>\n<p>59400 rows × 3 columns</p>\n</div>"
     },
     "execution_count": 236,
     "metadata": {},
     "output_type": "execute_result"
    }
   ],
   "source": [
    "pump_df.filter(regex=('manage'))"
   ],
   "metadata": {
    "collapsed": false,
    "pycharm": {
     "name": "#%%\n"
    }
   }
  },
  {
   "cell_type": "code",
   "execution_count": 237,
   "outputs": [
    {
     "name": "stdout",
     "output_type": "stream",
     "text": [
      "vwc                 40507\n",
      "wug                  6515\n",
      "water board          2933\n",
      "wua                  2535\n",
      "private operator     1971\n",
      "parastatal           1768\n",
      "water authority       904\n",
      "other                 844\n",
      "company               685\n",
      "unknown               561\n",
      "other - school         99\n",
      "trust                  78\n",
      "Name: management, dtype: int64\n",
      "user-group    52490\n",
      "commercial     3638\n",
      "parastatal     1768\n",
      "other           943\n",
      "unknown         561\n",
      "Name: management_group, dtype: int64\n",
      "VWC                 36793\n",
      "WUG                  5206\n",
      "Other                4813\n",
      "Water authority      3153\n",
      "WUA                  2883\n",
      "Water Board          2748\n",
      "Parastatal           1680\n",
      "Private operator     1063\n",
      "Company              1061\n",
      "Name: scheme_management, dtype: int64\n",
      "12\n",
      "5\n",
      "9\n"
     ]
    }
   ],
   "source": [
    "print(pump_df.management.value_counts())\n",
    "print(pump_df.management_group.value_counts())\n",
    "print(pump_df.scheme_management.value_counts())\n",
    "print(pump_df.management.nunique())\n",
    "print(pump_df.management_group.nunique())\n",
    "print(pump_df.scheme_management.nunique())\n"
   ],
   "metadata": {
    "collapsed": false,
    "pycharm": {
     "name": "#%%\n"
    }
   }
  },
  {
   "cell_type": "markdown",
   "source": [],
   "metadata": {
    "collapsed": false,
    "pycharm": {
     "name": "#%% md\n"
    }
   }
  },
  {
   "cell_type": "code",
   "execution_count": 238,
   "outputs": [
    {
     "name": "stdout",
     "output_type": "stream",
     "text": [
      "The same information is contained within the columns management, management_group and scheme_management. Therefore only scheme_management will be used within the prediction.\n"
     ]
    }
   ],
   "source": [
    "print('The same information is contained within the columns management, management_group and scheme_management. Therefore only scheme_management will be used within the prediction.')"
   ],
   "metadata": {
    "collapsed": false,
    "pycharm": {
     "name": "#%%\n"
    }
   }
  },
  {
   "cell_type": "code",
   "execution_count": 239,
   "outputs": [],
   "source": [
    "prediction_columns.append('scheme_management')"
   ],
   "metadata": {
    "collapsed": false,
    "pycharm": {
     "name": "#%%\n"
    }
   }
  },
  {
   "cell_type": "markdown",
   "source": [
    "#### Water quality"
   ],
   "metadata": {
    "collapsed": false,
    "pycharm": {
     "name": "#%% md\n"
    }
   }
  },
  {
   "cell_type": "code",
   "execution_count": 240,
   "outputs": [
    {
     "name": "stdout",
     "output_type": "stream",
     "text": [
      "soft                  50818\n",
      "salty                  4856\n",
      "unknown                1876\n",
      "milky                   804\n",
      "coloured                490\n",
      "salty abandoned         339\n",
      "fluoride                200\n",
      "fluoride abandoned       17\n",
      "Name: water_quality, dtype: int64\n",
      "good        50818\n",
      "salty        5195\n",
      "unknown      1876\n",
      "milky         804\n",
      "colored       490\n",
      "fluoride      217\n",
      "Name: quality_group, dtype: int64\n",
      "8\n",
      "6\n"
     ]
    }
   ],
   "source": [
    "print(pump_df.water_quality.value_counts())\n",
    "print(pump_df.quality_group.value_counts())\n",
    "print(pump_df.water_quality.nunique())\n",
    "print(pump_df.quality_group.nunique())"
   ],
   "metadata": {
    "collapsed": false,
    "pycharm": {
     "name": "#%%\n"
    }
   }
  },
  {
   "cell_type": "code",
   "execution_count": 241,
   "outputs": [
    {
     "name": "stdout",
     "output_type": "stream",
     "text": [
      "The water_quality and quality_group columns contain the same information. The quality_group column will be used for predictions as is does not segregate abandoned pumps - which could affect predictions.  The abandoned pumps could be used in a later prediction model, to see if there is any effect on prediction success.\n"
     ]
    }
   ],
   "source": [
    "print('The water_quality and quality_group columns contain the same information. The quality_group column will be used for predictions as is does not segregate abandoned pumps - which could affect predictions.  The abandoned pumps could be used in a later prediction model, to see if there is any effect on prediction success.')"
   ],
   "metadata": {
    "collapsed": false,
    "pycharm": {
     "name": "#%%\n"
    }
   }
  },
  {
   "cell_type": "code",
   "execution_count": 242,
   "outputs": [],
   "source": [
    "prediction_columns.append('quality_group')"
   ],
   "metadata": {
    "collapsed": false,
    "pycharm": {
     "name": "#%%\n"
    }
   }
  },
  {
   "cell_type": "markdown",
   "source": [],
   "metadata": {
    "collapsed": false,
    "pycharm": {
     "name": "#%% md\n"
    }
   }
  },
  {
   "cell_type": "markdown",
   "source": [
    "#### Source\n"
   ],
   "metadata": {
    "collapsed": false,
    "pycharm": {
     "name": "#%% md\n"
    }
   }
  },
  {
   "cell_type": "code",
   "execution_count": 243,
   "outputs": [
    {
     "data": {
      "text/plain": "                     source           source_type source_class\n0                    spring                spring  groundwater\n1      rainwater harvesting  rainwater harvesting      surface\n2                       dam                   dam      surface\n3               machine dbh              borehole  groundwater\n4      rainwater harvesting  rainwater harvesting      surface\n...                     ...                   ...          ...\n59395                spring                spring  groundwater\n59396                 river            river/lake      surface\n59397           machine dbh              borehole  groundwater\n59398          shallow well          shallow well  groundwater\n59399          shallow well          shallow well  groundwater\n\n[59400 rows x 3 columns]",
      "text/html": "<div>\n<style scoped>\n    .dataframe tbody tr th:only-of-type {\n        vertical-align: middle;\n    }\n\n    .dataframe tbody tr th {\n        vertical-align: top;\n    }\n\n    .dataframe thead th {\n        text-align: right;\n    }\n</style>\n<table border=\"1\" class=\"dataframe\">\n  <thead>\n    <tr style=\"text-align: right;\">\n      <th></th>\n      <th>source</th>\n      <th>source_type</th>\n      <th>source_class</th>\n    </tr>\n  </thead>\n  <tbody>\n    <tr>\n      <th>0</th>\n      <td>spring</td>\n      <td>spring</td>\n      <td>groundwater</td>\n    </tr>\n    <tr>\n      <th>1</th>\n      <td>rainwater harvesting</td>\n      <td>rainwater harvesting</td>\n      <td>surface</td>\n    </tr>\n    <tr>\n      <th>2</th>\n      <td>dam</td>\n      <td>dam</td>\n      <td>surface</td>\n    </tr>\n    <tr>\n      <th>3</th>\n      <td>machine dbh</td>\n      <td>borehole</td>\n      <td>groundwater</td>\n    </tr>\n    <tr>\n      <th>4</th>\n      <td>rainwater harvesting</td>\n      <td>rainwater harvesting</td>\n      <td>surface</td>\n    </tr>\n    <tr>\n      <th>...</th>\n      <td>...</td>\n      <td>...</td>\n      <td>...</td>\n    </tr>\n    <tr>\n      <th>59395</th>\n      <td>spring</td>\n      <td>spring</td>\n      <td>groundwater</td>\n    </tr>\n    <tr>\n      <th>59396</th>\n      <td>river</td>\n      <td>river/lake</td>\n      <td>surface</td>\n    </tr>\n    <tr>\n      <th>59397</th>\n      <td>machine dbh</td>\n      <td>borehole</td>\n      <td>groundwater</td>\n    </tr>\n    <tr>\n      <th>59398</th>\n      <td>shallow well</td>\n      <td>shallow well</td>\n      <td>groundwater</td>\n    </tr>\n    <tr>\n      <th>59399</th>\n      <td>shallow well</td>\n      <td>shallow well</td>\n      <td>groundwater</td>\n    </tr>\n  </tbody>\n</table>\n<p>59400 rows × 3 columns</p>\n</div>"
     },
     "execution_count": 243,
     "metadata": {},
     "output_type": "execute_result"
    }
   ],
   "source": [
    "pump_df.filter(regex=('source'))"
   ],
   "metadata": {
    "collapsed": false,
    "pycharm": {
     "name": "#%%\n"
    }
   }
  },
  {
   "cell_type": "code",
   "execution_count": 244,
   "outputs": [
    {
     "name": "stdout",
     "output_type": "stream",
     "text": [
      "spring                  17021\n",
      "shallow well            16824\n",
      "machine dbh             11075\n",
      "river                    9612\n",
      "rainwater harvesting     2295\n",
      "hand dtw                  874\n",
      "lake                      765\n",
      "dam                       656\n",
      "other                     212\n",
      "unknown                    66\n",
      "Name: source, dtype: int64\n",
      "spring                  17021\n",
      "shallow well            16824\n",
      "borehole                11949\n",
      "river/lake              10377\n",
      "rainwater harvesting     2295\n",
      "dam                       656\n",
      "other                     278\n",
      "Name: source_type, dtype: int64\n",
      "groundwater    45794\n",
      "surface        13328\n",
      "unknown          278\n",
      "Name: source_class, dtype: int64\n",
      "10\n",
      "7\n",
      "3\n"
     ]
    }
   ],
   "source": [
    "print(pump_df.source.value_counts())\n",
    "print(pump_df.source_type.value_counts())\n",
    "print(pump_df.source_class.value_counts())\n",
    "print(pump_df.source.nunique())\n",
    "print(pump_df.source_type.nunique())\n",
    "print(pump_df.source_class.nunique())\n"
   ],
   "metadata": {
    "collapsed": false,
    "pycharm": {
     "name": "#%%\n"
    }
   }
  },
  {
   "cell_type": "code",
   "execution_count": 245,
   "outputs": [
    {
     "name": "stdout",
     "output_type": "stream",
     "text": [
      "The source columns have the same information, but further grouped with each iteration. To use a good selection of data (i.e. not too many variables and not too much data loss through grouping) the source_type column will be used in predictions.\n"
     ]
    }
   ],
   "source": [
    "print('The source columns have the same information, but further grouped with each iteration. To use a good selection of data (i.e. not too many variables and not too much data loss through grouping) the source_type column will be used in predictions.')"
   ],
   "metadata": {
    "collapsed": false,
    "pycharm": {
     "name": "#%%\n"
    }
   }
  },
  {
   "cell_type": "code",
   "execution_count": 246,
   "outputs": [],
   "source": [
    "prediction_columns.append('source_type')"
   ],
   "metadata": {
    "collapsed": false,
    "pycharm": {
     "name": "#%%\n"
    }
   }
  },
  {
   "cell_type": "markdown",
   "source": [
    "#### Quantity"
   ],
   "metadata": {
    "collapsed": false,
    "pycharm": {
     "name": "#%% md\n"
    }
   }
  },
  {
   "cell_type": "code",
   "execution_count": 247,
   "outputs": [
    {
     "data": {
      "text/plain": "           quantity quantity_group\n0            enough         enough\n1      insufficient   insufficient\n2            enough         enough\n3               dry            dry\n4          seasonal       seasonal\n...             ...            ...\n59395        enough         enough\n59396        enough         enough\n59397        enough         enough\n59398  insufficient   insufficient\n59399        enough         enough\n\n[59400 rows x 2 columns]",
      "text/html": "<div>\n<style scoped>\n    .dataframe tbody tr th:only-of-type {\n        vertical-align: middle;\n    }\n\n    .dataframe tbody tr th {\n        vertical-align: top;\n    }\n\n    .dataframe thead th {\n        text-align: right;\n    }\n</style>\n<table border=\"1\" class=\"dataframe\">\n  <thead>\n    <tr style=\"text-align: right;\">\n      <th></th>\n      <th>quantity</th>\n      <th>quantity_group</th>\n    </tr>\n  </thead>\n  <tbody>\n    <tr>\n      <th>0</th>\n      <td>enough</td>\n      <td>enough</td>\n    </tr>\n    <tr>\n      <th>1</th>\n      <td>insufficient</td>\n      <td>insufficient</td>\n    </tr>\n    <tr>\n      <th>2</th>\n      <td>enough</td>\n      <td>enough</td>\n    </tr>\n    <tr>\n      <th>3</th>\n      <td>dry</td>\n      <td>dry</td>\n    </tr>\n    <tr>\n      <th>4</th>\n      <td>seasonal</td>\n      <td>seasonal</td>\n    </tr>\n    <tr>\n      <th>...</th>\n      <td>...</td>\n      <td>...</td>\n    </tr>\n    <tr>\n      <th>59395</th>\n      <td>enough</td>\n      <td>enough</td>\n    </tr>\n    <tr>\n      <th>59396</th>\n      <td>enough</td>\n      <td>enough</td>\n    </tr>\n    <tr>\n      <th>59397</th>\n      <td>enough</td>\n      <td>enough</td>\n    </tr>\n    <tr>\n      <th>59398</th>\n      <td>insufficient</td>\n      <td>insufficient</td>\n    </tr>\n    <tr>\n      <th>59399</th>\n      <td>enough</td>\n      <td>enough</td>\n    </tr>\n  </tbody>\n</table>\n<p>59400 rows × 2 columns</p>\n</div>"
     },
     "execution_count": 247,
     "metadata": {},
     "output_type": "execute_result"
    }
   ],
   "source": [
    "pump_df.filter(regex=('quant'))"
   ],
   "metadata": {
    "collapsed": false,
    "pycharm": {
     "name": "#%%\n"
    }
   }
  },
  {
   "cell_type": "code",
   "execution_count": 248,
   "outputs": [
    {
     "name": "stdout",
     "output_type": "stream",
     "text": [
      "enough          33186\n",
      "insufficient    15129\n",
      "dry              6246\n",
      "seasonal         4050\n",
      "unknown           789\n",
      "Name: quantity, dtype: int64\n",
      "enough          33186\n",
      "insufficient    15129\n",
      "dry              6246\n",
      "seasonal         4050\n",
      "unknown           789\n",
      "Name: quantity_group, dtype: int64\n",
      "5\n",
      "5\n"
     ]
    }
   ],
   "source": [
    "print(pump_df.quantity.value_counts())\n",
    "print(pump_df.quantity_group.value_counts())\n",
    "print(pump_df.quantity.nunique())\n",
    "print(pump_df.quantity_group.nunique())"
   ],
   "metadata": {
    "collapsed": false,
    "pycharm": {
     "name": "#%%\n"
    }
   }
  },
  {
   "cell_type": "code",
   "execution_count": 249,
   "outputs": [
    {
     "name": "stdout",
     "output_type": "stream",
     "text": [
      "These two columns are duplicates. Therefore only quantity will be used.\n"
     ]
    }
   ],
   "source": [
    "print('These two columns are duplicates. Therefore only quantity will be used.')\n",
    "prediction_columns.append('quantity')"
   ],
   "metadata": {
    "collapsed": false,
    "pycharm": {
     "name": "#%%\n"
    }
   }
  },
  {
   "cell_type": "markdown",
   "source": [
    "#### Payment"
   ],
   "metadata": {
    "collapsed": false,
    "pycharm": {
     "name": "#%% md\n"
    }
   }
  },
  {
   "cell_type": "code",
   "execution_count": 250,
   "outputs": [
    {
     "name": "stdout",
     "output_type": "stream",
     "text": [
      "never pay                25348\n",
      "pay per bucket            8985\n",
      "pay monthly               8300\n",
      "unknown                   8157\n",
      "pay when scheme fails     3914\n",
      "pay annually              3642\n",
      "other                     1054\n",
      "Name: payment, dtype: int64\n",
      "never pay     25348\n",
      "per bucket     8985\n",
      "monthly        8300\n",
      "unknown        8157\n",
      "on failure     3914\n",
      "annually       3642\n",
      "other          1054\n",
      "Name: payment_type, dtype: int64\n",
      "7\n",
      "7\n"
     ]
    }
   ],
   "source": [
    "print(pump_df.payment.value_counts())\n",
    "print(pump_df.payment_type.value_counts())\n",
    "print(pump_df.payment.nunique())\n",
    "print(pump_df.payment_type.nunique())"
   ],
   "metadata": {
    "collapsed": false,
    "pycharm": {
     "name": "#%%\n"
    }
   }
  },
  {
   "cell_type": "code",
   "execution_count": 251,
   "outputs": [
    {
     "name": "stdout",
     "output_type": "stream",
     "text": [
      "These two columns are duplicates. Therefore only payment will be used.\n"
     ]
    }
   ],
   "source": [
    "print('These two columns are duplicates. Therefore only payment will be used.')\n",
    "prediction_columns.append('payment')"
   ],
   "metadata": {
    "collapsed": false,
    "pycharm": {
     "name": "#%%\n"
    }
   }
  },
  {
   "cell_type": "markdown",
   "source": [
    "#basin, region, ward, lga\n",
    "#### Geographic"
   ],
   "metadata": {
    "collapsed": false,
    "pycharm": {
     "name": "#%% md\n"
    }
   }
  },
  {
   "cell_type": "code",
   "execution_count": 252,
   "outputs": [
    {
     "name": "stdout",
     "output_type": "stream",
     "text": [
      "Lake Victoria              10248\n",
      "Pangani                     8940\n",
      "Rufiji                      7976\n",
      "Internal                    7785\n",
      "Lake Tanganyika             6432\n",
      "Wami / Ruvu                 5987\n",
      "Lake Nyasa                  5085\n",
      "Ruvuma / Southern Coast     4493\n",
      "Lake Rukwa                  2454\n",
      "Name: basin, dtype: int64\n",
      "Igosi              307\n",
      "Imalinyi           252\n",
      "Siha Kati          232\n",
      "Mdandu             231\n",
      "Nduruma            217\n",
      "                  ... \n",
      "Uchindile            1\n",
      "Thawi                1\n",
      "Uwanja wa Ndege      1\n",
      "Izia                 1\n",
      "Kinungu              1\n",
      "Name: ward, Length: 2092, dtype: int64\n",
      "9\n",
      "2092\n"
     ]
    }
   ],
   "source": [
    "print(pump_df.basin.value_counts())\n",
    "print(pump_df.ward.value_counts())\n",
    "print(pump_df.basin.nunique())\n",
    "print(pump_df.ward.nunique())"
   ],
   "metadata": {
    "collapsed": false,
    "pycharm": {
     "name": "#%%\n"
    }
   }
  },
  {
   "cell_type": "code",
   "execution_count": 253,
   "outputs": [
    {
     "name": "stdout",
     "output_type": "stream",
     "text": [
      "Iringa           5294\n",
      "Shinyanga        4982\n",
      "Mbeya            4639\n",
      "Kilimanjaro      4379\n",
      "Morogoro         4006\n",
      "Arusha           3350\n",
      "Kagera           3316\n",
      "Mwanza           3102\n",
      "Kigoma           2816\n",
      "Ruvuma           2640\n",
      "Pwani            2635\n",
      "Tanga            2547\n",
      "Dodoma           2201\n",
      "Singida          2093\n",
      "Mara             1969\n",
      "Tabora           1959\n",
      "Rukwa            1808\n",
      "Mtwara           1730\n",
      "Manyara          1583\n",
      "Lindi            1546\n",
      "Dar es Salaam     805\n",
      "Name: region, dtype: int64\n",
      "Njombe          2503\n",
      "Arusha Rural    1252\n",
      "Moshi Rural     1251\n",
      "Bariadi         1177\n",
      "Rungwe          1106\n",
      "                ... \n",
      "Moshi Urban       79\n",
      "Kigoma Urban      71\n",
      "Arusha Urban      63\n",
      "Lindi Urban       21\n",
      "Nyamagana          1\n",
      "Name: lga, Length: 125, dtype: int64\n",
      "21\n",
      "125\n"
     ]
    }
   ],
   "source": [
    "print(pump_df.region.value_counts())\n",
    "print(pump_df.lga.value_counts())\n",
    "print(pump_df.region.nunique())\n",
    "print(pump_df.lga.nunique())"
   ],
   "metadata": {
    "collapsed": false,
    "pycharm": {
     "name": "#%%\n"
    }
   }
  },
  {
   "cell_type": "code",
   "execution_count": 254,
   "outputs": [],
   "source": [
    "#Region, ward, lga and basin are all geographical information about the pumps. This data is likely to be highly correlated so one column will need to be chosen. The numeric columns district_code and region_code contain geographical information, so the columns to use within the prediction model will be decided when the numeric columns have been inspected."
   ],
   "metadata": {
    "collapsed": false,
    "pycharm": {
     "name": "#%%\n"
    }
   }
  },
  {
   "cell_type": "code",
   "execution_count": 255,
   "outputs": [
    {
     "name": "stdout",
     "output_type": "stream",
     "text": [
      "11    5300\n",
      "17    5011\n",
      "12    4639\n",
      "3     4379\n",
      "5     4040\n",
      "18    3324\n",
      "19    3047\n",
      "2     3024\n",
      "16    2816\n",
      "10    2640\n",
      "4     2513\n",
      "1     2201\n",
      "13    2093\n",
      "14    1979\n",
      "20    1969\n",
      "15    1808\n",
      "6     1609\n",
      "21    1583\n",
      "80    1238\n",
      "60    1025\n",
      "90     917\n",
      "7      805\n",
      "99     423\n",
      "9      390\n",
      "24     326\n",
      "8      300\n",
      "40       1\n",
      "Name: region_code, dtype: int64\n",
      "27\n"
     ]
    }
   ],
   "source": [
    "print(pump_df.region_code.value_counts())\n",
    "print(pump_df.region_code.nunique())\n",
    "#region codes do not provide any further information, therefore will be excluded from the initial prediction model."
   ],
   "metadata": {
    "collapsed": false,
    "pycharm": {
     "name": "#%%\n"
    }
   }
  },
  {
   "cell_type": "code",
   "execution_count": 256,
   "outputs": [],
   "source": [
    "#Will use the basin column as it has a reasonable number of variables and groups the pumps into areas.  Other columns could be considered in other prediction model iterations\n",
    "prediction_columns.append('basin')"
   ],
   "metadata": {
    "collapsed": false,
    "pycharm": {
     "name": "#%%\n"
    }
   }
  },
  {
   "cell_type": "code",
   "execution_count": 257,
   "outputs": [
    {
     "name": "stdout",
     "output_type": "stream",
     "text": [
      "communal standpipe             28522\n",
      "hand pump                      17488\n",
      "other                           6380\n",
      "communal standpipe multiple     6103\n",
      "improved spring                  784\n",
      "cattle trough                    116\n",
      "dam                                7\n",
      "Name: waterpoint_type, dtype: int64\n",
      "communal standpipe    34625\n",
      "hand pump             17488\n",
      "other                  6380\n",
      "improved spring         784\n",
      "cattle trough           116\n",
      "dam                       7\n",
      "Name: waterpoint_type_group, dtype: int64\n",
      "7\n",
      "6\n"
     ]
    }
   ],
   "source": [
    "print(pump_df.waterpoint_type.value_counts())\n",
    "print(pump_df.waterpoint_type_group.value_counts())\n",
    "print(pump_df.waterpoint_type.nunique())\n",
    "print(pump_df.waterpoint_type_group.nunique())"
   ],
   "metadata": {
    "collapsed": false,
    "pycharm": {
     "name": "#%%\n"
    }
   }
  },
  {
   "cell_type": "code",
   "execution_count": 258,
   "outputs": [
    {
     "name": "stdout",
     "output_type": "stream",
     "text": [
      "The waterpoint columns contain duplicate information. The waterpoint_type column contains a further category where there are multiple communal standpipes. As this may affect the running/repairs of a pump, waterpoint_type will be used in prediction.\n"
     ]
    }
   ],
   "source": [
    "print('The waterpoint columns contain duplicate information. The waterpoint_type column contains a further category where there are multiple communal standpipes. As this may affect the running/repairs of a pump, waterpoint_type will be used in prediction.')\n",
    "prediction_columns.append('waterpoint_type')"
   ],
   "metadata": {
    "collapsed": false,
    "pycharm": {
     "name": "#%%\n"
    }
   }
  },
  {
   "cell_type": "code",
   "execution_count": 259,
   "outputs": [
    {
     "name": "stdout",
     "output_type": "stream",
     "text": [
      "GeoData Consultants Ltd    59400\n",
      "Name: recorded_by, dtype: int64\n"
     ]
    }
   ],
   "source": [
    "print(pump_df.recorded_by.value_counts())\n",
    "#This column only has one company - the consultants that recorded the data - therefore it will not be used in the prediction model."
   ],
   "metadata": {
    "collapsed": false,
    "pycharm": {
     "name": "#%%\n"
    }
   }
  },
  {
   "cell_type": "markdown",
   "source": [
    "## Numerical columns\n",
    "\n",
    "#### Amount of water\n"
   ],
   "metadata": {
    "collapsed": false,
    "pycharm": {
     "name": "#%% md\n"
    }
   }
  },
  {
   "cell_type": "code",
   "execution_count": 260,
   "outputs": [
    {
     "name": "stdout",
     "output_type": "stream",
     "text": [
      "0.0         41639\n",
      "500.0        3102\n",
      "50.0         2472\n",
      "1000.0       1488\n",
      "20.0         1463\n",
      "            ...  \n",
      "6300.0          1\n",
      "120000.0        1\n",
      "138000.0        1\n",
      "350000.0        1\n",
      "59.0            1\n",
      "Name: amount_tsh, Length: 98, dtype: int64\n",
      "98\n"
     ]
    }
   ],
   "source": [
    "print(pump_df.amount_tsh.value_counts())\n",
    "print(pump_df.amount_tsh.nunique())\n",
    "#Large number of variables and large percent of null data (represented by 0s), therefore this will not be used within the prediction model"
   ],
   "metadata": {
    "collapsed": false,
    "pycharm": {
     "name": "#%%\n"
    }
   }
  },
  {
   "cell_type": "markdown",
   "source": [
    "#### Num_private"
   ],
   "metadata": {
    "collapsed": false,
    "pycharm": {
     "name": "#%% md\n"
    }
   }
  },
  {
   "cell_type": "code",
   "execution_count": 261,
   "outputs": [
    {
     "name": "stdout",
     "output_type": "stream",
     "text": [
      "0       58643\n",
      "6          81\n",
      "1          73\n",
      "5          46\n",
      "8          46\n",
      "        ...  \n",
      "42          1\n",
      "23          1\n",
      "136         1\n",
      "698         1\n",
      "1402        1\n",
      "Name: num_private, Length: 65, dtype: int64\n"
     ]
    }
   ],
   "source": [
    "print(pump_df.num_private.value_counts())\n",
    "#There is no information about the data this column contains and as there are a large number of variables, it will be excluded from the prediction model."
   ],
   "metadata": {
    "collapsed": false,
    "pycharm": {
     "name": "#%%\n"
    }
   }
  },
  {
   "cell_type": "markdown",
   "source": [
    "#### Population"
   ],
   "metadata": {
    "collapsed": false,
    "pycharm": {
     "name": "#%% md\n"
    }
   }
  },
  {
   "cell_type": "code",
   "execution_count": 262,
   "outputs": [
    {
     "name": "stdout",
     "output_type": "stream",
     "text": [
      "0       21381\n",
      "1        7025\n",
      "200      1940\n",
      "150      1892\n",
      "250      1681\n",
      "        ...  \n",
      "6330        1\n",
      "5030        1\n",
      "656         1\n",
      "948         1\n",
      "788         1\n",
      "Name: population, Length: 1049, dtype: int64\n",
      "1049\n"
     ]
    }
   ],
   "source": [
    "print(pump_df.population.value_counts())\n",
    "print(pump_df.population.nunique())\n",
    "\n",
    "#there is a lot of information here, and a large number of variables/null values (zeros). These could be further explored, but will be removed from the initial prediction model."
   ],
   "metadata": {
    "collapsed": false,
    "pycharm": {
     "name": "#%%\n"
    }
   }
  },
  {
   "cell_type": "markdown",
   "source": [
    "#### GPS, latitude and longitude"
   ],
   "metadata": {
    "collapsed": false,
    "pycharm": {
     "name": "#%% md\n"
    }
   }
  },
  {
   "cell_type": "code",
   "execution_count": 263,
   "outputs": [
    {
     "name": "stdout",
     "output_type": "stream",
     "text": [
      " 0       20438\n",
      "-15         60\n",
      "-16         55\n",
      "-13         55\n",
      " 1290       52\n",
      "         ...  \n",
      " 2378        1\n",
      "-54          1\n",
      " 2057        1\n",
      " 2332        1\n",
      " 2366        1\n",
      "Name: gps_height, Length: 2428, dtype: int64\n",
      "-2.000000e-08    1812\n",
      "-6.985842e+00       2\n",
      "-6.980220e+00       2\n",
      "-2.476680e+00       2\n",
      "-6.978263e+00       2\n",
      "                 ... \n",
      "-3.287619e+00       1\n",
      "-8.234989e+00       1\n",
      "-3.268579e+00       1\n",
      "-1.146053e+01       1\n",
      "-6.747464e+00       1\n",
      "Name: latitude, Length: 57517, dtype: int64\n",
      "0.000000     1812\n",
      "37.375717       2\n",
      "38.340501       2\n",
      "39.086183       2\n",
      "33.005032       2\n",
      "             ... \n",
      "35.885754       1\n",
      "36.626541       1\n",
      "37.333530       1\n",
      "38.970078       1\n",
      "38.104048       1\n",
      "Name: longitude, Length: 57516, dtype: int64\n"
     ]
    }
   ],
   "source": [
    "print(pump_df.gps_height.value_counts())\n",
    "print(pump_df.latitude.value_counts())\n",
    "print(pump_df.longitude.value_counts())\n",
    "\n",
    "#too many variables as each pump will have a different geographical location"
   ],
   "metadata": {
    "collapsed": false,
    "pycharm": {
     "name": "#%%\n"
    }
   }
  },
  {
   "cell_type": "markdown",
   "source": [
    "#### Construction and age"
   ],
   "metadata": {
    "collapsed": false,
    "pycharm": {
     "name": "#%% md\n"
    }
   }
  },
  {
   "cell_type": "code",
   "execution_count": 264,
   "outputs": [
    {
     "name": "stdout",
     "output_type": "stream",
     "text": [
      "0       20709\n",
      "2010     2645\n",
      "2008     2613\n",
      "2009     2533\n",
      "2000     2091\n",
      "2007     1587\n",
      "2006     1471\n",
      "2003     1286\n",
      "2011     1256\n",
      "2004     1123\n",
      "2012     1084\n",
      "2002     1075\n",
      "1978     1037\n",
      "1995     1014\n",
      "2005     1011\n",
      "1999      979\n",
      "1998      966\n",
      "1990      954\n",
      "1985      945\n",
      "1980      811\n",
      "1996      811\n",
      "1984      779\n",
      "1982      744\n",
      "1994      738\n",
      "1972      708\n",
      "1974      676\n",
      "1997      644\n",
      "1992      640\n",
      "1993      608\n",
      "2001      540\n",
      "1988      521\n",
      "1983      488\n",
      "1975      437\n",
      "1986      434\n",
      "1976      414\n",
      "1970      411\n",
      "1991      324\n",
      "1989      316\n",
      "1987      302\n",
      "1981      238\n",
      "1977      202\n",
      "1979      192\n",
      "1973      184\n",
      "2013      176\n",
      "1971      145\n",
      "1960      102\n",
      "1967       88\n",
      "1963       85\n",
      "1968       77\n",
      "1969       59\n",
      "1964       40\n",
      "1962       30\n",
      "1961       21\n",
      "1965       19\n",
      "1966       17\n",
      "Name: construction_year, dtype: int64\n",
      "55\n"
     ]
    }
   ],
   "source": [
    "print(pump_df.construction_year.value_counts())\n",
    "print(pump_df.construction_year.nunique())\n",
    "#There are 55 different years listed."
   ],
   "metadata": {
    "collapsed": false,
    "pycharm": {
     "name": "#%%\n"
    }
   }
  },
  {
   "cell_type": "code",
   "execution_count": 265,
   "outputs": [
    {
     "name": "stdout",
     "output_type": "stream",
     "text": [
      "2013-12-03\n",
      "2002-10-14\n",
      "2013\n",
      "0\n"
     ]
    }
   ],
   "source": [
    "print(pump_df.date_recorded.max())\n",
    "print(pump_df.date_recorded.min())\n",
    "#The dates recorded span a decade. The age of the pump is likely to affect whether a pump is functional or in need of repair. Therefore creation of a new column seems like the best solution.\n",
    "\n",
    "print(pump_df.construction_year.max())\n",
    "print(pump_df.construction_year.min())\n",
    "\n",
    "#Will run into problems with the null (zero values). Therefore will use a median value to fill in these.\n"
   ],
   "metadata": {
    "collapsed": false,
    "pycharm": {
     "name": "#%%\n"
    }
   }
  },
  {
   "cell_type": "code",
   "execution_count": 266,
   "outputs": [
    {
     "name": "stdout",
     "output_type": "stream",
     "text": [
      "datetime64[ns]\n"
     ]
    }
   ],
   "source": [
    "#first convert the date_recorded column to datetime format as it is currently a string.\n",
    "pump_df.date_recorded = pd.to_datetime(pump_df.date_recorded)\n",
    "print(pump_df.date_recorded.dtype)\n"
   ],
   "metadata": {
    "collapsed": false,
    "pycharm": {
     "name": "#%%\n"
    }
   }
  },
  {
   "cell_type": "raw",
   "source": [
    "pump_df.construction_year = pd.to_datetime(pump_df.construction_year)\n",
    "print(pump_df.construction_year.dtype)"
   ],
   "metadata": {
    "collapsed": false,
    "pycharm": {
     "name": "#%% raw\n"
    }
   }
  },
  {
   "cell_type": "code",
   "execution_count": 267,
   "outputs": [
    {
     "name": "stdout",
     "output_type": "stream",
     "text": [
      "0        2011\n",
      "1        2013\n",
      "2        2013\n",
      "3        2013\n",
      "4        2011\n",
      "         ... \n",
      "59395    2013\n",
      "59396    2011\n",
      "59397    2011\n",
      "59398    2011\n",
      "59399    2011\n",
      "Name: year_recorded, Length: 59400, dtype: int64\n"
     ]
    }
   ],
   "source": [
    "pump_df['year_recorded'] = pump_df.date_recorded.dt.year\n",
    "print(pump_df.year_recorded)"
   ],
   "metadata": {
    "collapsed": false,
    "pycharm": {
     "name": "#%%\n"
    }
   }
  },
  {
   "cell_type": "code",
   "execution_count": 268,
   "outputs": [
    {
     "name": "stdout",
     "output_type": "stream",
     "text": [
      "2012.0\n",
      "2011.9216666666666\n",
      "1986.0\n",
      "1300.6524747474748\n"
     ]
    }
   ],
   "source": [
    "print(pump_df.year_recorded.median())\n",
    "print(pump_df.year_recorded.mean())\n",
    "print(pump_df.construction_year.median())\n",
    "print(pump_df.construction_year.mean())"
   ],
   "metadata": {
    "collapsed": false,
    "pycharm": {
     "name": "#%%\n"
    }
   }
  },
  {
   "cell_type": "code",
   "execution_count": 269,
   "outputs": [
    {
     "name": "stdout",
     "output_type": "stream",
     "text": [
      "2011    28674\n",
      "2013    24271\n",
      "2012     6424\n",
      "2004       30\n",
      "2002        1\n",
      "Name: year_recorded, dtype: int64\n"
     ]
    }
   ],
   "source": [
    "pump_df.loc[pump_df['year_recorded'] == 0, 'year_recorded'] = 2012\n",
    "print(pump_df.year_recorded.value_counts())"
   ],
   "metadata": {
    "collapsed": false,
    "pycharm": {
     "name": "#%%\n"
    }
   }
  },
  {
   "cell_type": "code",
   "execution_count": 270,
   "outputs": [
    {
     "name": "stdout",
     "output_type": "stream",
     "text": [
      "1986    21143\n",
      "2010     2645\n",
      "2008     2613\n",
      "2009     2533\n",
      "2000     2091\n",
      "2007     1587\n",
      "2006     1471\n",
      "2003     1286\n",
      "2011     1256\n",
      "2004     1123\n",
      "2012     1084\n",
      "2002     1075\n",
      "1978     1037\n",
      "1995     1014\n",
      "2005     1011\n",
      "1999      979\n",
      "1998      966\n",
      "1990      954\n",
      "1985      945\n",
      "1996      811\n",
      "1980      811\n",
      "1984      779\n",
      "1982      744\n",
      "1994      738\n",
      "1972      708\n",
      "1974      676\n",
      "1997      644\n",
      "1992      640\n",
      "1993      608\n",
      "2001      540\n",
      "1988      521\n",
      "1983      488\n",
      "1975      437\n",
      "1976      414\n",
      "1970      411\n",
      "1991      324\n",
      "1989      316\n",
      "1987      302\n",
      "1981      238\n",
      "1977      202\n",
      "1979      192\n",
      "1973      184\n",
      "2013      176\n",
      "1971      145\n",
      "1960      102\n",
      "1967       88\n",
      "1963       85\n",
      "1968       77\n",
      "1969       59\n",
      "1964       40\n",
      "1962       30\n",
      "1961       21\n",
      "1965       19\n",
      "1966       17\n",
      "Name: construction_year, dtype: int64\n"
     ]
    }
   ],
   "source": [
    "pump_df.loc[pump_df['construction_year'] == 0, 'construction_year'] = 1986\n",
    "print(pump_df.construction_year.value_counts())"
   ],
   "metadata": {
    "collapsed": false,
    "pycharm": {
     "name": "#%%\n"
    }
   }
  },
  {
   "cell_type": "markdown",
   "source": [],
   "metadata": {
    "collapsed": false,
    "pycharm": {
     "name": "#%% md\n"
    }
   }
  },
  {
   "cell_type": "code",
   "execution_count": 271,
   "outputs": [
    {
     "name": "stdout",
     "output_type": "stream",
     "text": [
      "0        12\n",
      "1         3\n",
      "2         4\n",
      "3        27\n",
      "4        25\n",
      "         ..\n",
      "59395    14\n",
      "59396    15\n",
      "59397    25\n",
      "59398    25\n",
      "59399     9\n",
      "Name: age_at_record, Length: 59400, dtype: int64\n",
      " 25    13926\n",
      " 26     5731\n",
      " 27     2972\n",
      " 3      2740\n",
      " 1      2303\n",
      " 2      2129\n",
      " 5      1980\n",
      " 4      1890\n",
      " 13     1869\n",
      " 7      1404\n",
      " 6      1381\n",
      " 11     1352\n",
      " 8      1160\n",
      " 14     1160\n",
      " 33     1120\n",
      " 15      993\n",
      " 23      905\n",
      " 10      868\n",
      " 16      827\n",
      " 9       814\n",
      " 18      767\n",
      " 19      766\n",
      " 31      709\n",
      " 28      709\n",
      " 35      647\n",
      " 17      636\n",
      " 39      601\n",
      " 37      600\n",
      " 0       588\n",
      " 21      578\n",
      " 29      564\n",
      " 12      559\n",
      " 20      541\n",
      " 41      488\n",
      " 30      359\n",
      " 43      356\n",
      " 38      351\n",
      " 36      325\n",
      " 22      323\n",
      " 24      261\n",
      " 40      233\n",
      " 34      184\n",
      " 32      174\n",
      " 53       91\n",
      " 42       90\n",
      " 50       84\n",
      " 45       66\n",
      " 46       48\n",
      " 44       47\n",
      " 48       41\n",
      " 51       31\n",
      " 49       25\n",
      " 47       14\n",
      " 52       11\n",
      "-5         3\n",
      "-4         2\n",
      "-2         1\n",
      "-7         1\n",
      "-1         1\n",
      "-3         1\n",
      "Name: age_at_record, dtype: int64\n"
     ]
    }
   ],
   "source": [
    "pump_df['age_at_record'] = pump_df.year_recorded - pump_df.construction_year\n",
    "print(pump_df.age_at_record)\n",
    "print(pump_df.age_at_record.value_counts())\n"
   ],
   "metadata": {
    "collapsed": false,
    "pycharm": {
     "name": "#%%\n"
    }
   }
  },
  {
   "cell_type": "code",
   "execution_count": 272,
   "outputs": [
    {
     "name": "stdout",
     "output_type": "stream",
     "text": [
      "25    13926\n",
      "26     5731\n",
      "27     2972\n",
      "3      2740\n",
      "1      2303\n",
      "2      2129\n",
      "5      1980\n",
      "4      1890\n",
      "13     1869\n",
      "7      1404\n",
      "6      1381\n",
      "11     1352\n",
      "8      1160\n",
      "14     1160\n",
      "33     1120\n",
      "15      993\n",
      "23      905\n",
      "10      868\n",
      "16      827\n",
      "9       814\n",
      "18      767\n",
      "19      766\n",
      "31      709\n",
      "28      709\n",
      "35      647\n",
      "17      636\n",
      "39      601\n",
      "37      600\n",
      "0       597\n",
      "21      578\n",
      "29      564\n",
      "12      559\n",
      "20      541\n",
      "41      488\n",
      "30      359\n",
      "43      356\n",
      "38      351\n",
      "36      325\n",
      "22      323\n",
      "24      261\n",
      "40      233\n",
      "34      184\n",
      "32      174\n",
      "53       91\n",
      "42       90\n",
      "50       84\n",
      "45       66\n",
      "46       48\n",
      "44       47\n",
      "48       41\n",
      "51       31\n",
      "49       25\n",
      "47       14\n",
      "52       11\n",
      "Name: age_at_record, dtype: int64\n"
     ]
    }
   ],
   "source": [
    "#remove negative values\n",
    "pump_df.loc[pump_df.age_at_record < 0, 'age_at_record'] = 0\n",
    "print(pump_df.age_at_record.value_counts())"
   ],
   "metadata": {
    "collapsed": false,
    "pycharm": {
     "name": "#%%\n"
    }
   }
  },
  {
   "cell_type": "code",
   "execution_count": 273,
   "outputs": [],
   "source": [
    "prediction_columns.append('age_at_record')"
   ],
   "metadata": {
    "collapsed": false,
    "pycharm": {
     "name": "#%%\n"
    }
   }
  },
  {
   "cell_type": "code",
   "execution_count": 276,
   "outputs": [
    {
     "name": "stdout",
     "output_type": "stream",
     "text": [
      "['funder', 'installer', 'scheme_management', 'extraction_type_group', 'scheme_management', 'quality_group', 'source_type', 'quantity', 'payment', 'basin', 'waterpoint_type', 'age_at_record']\n",
      "['public_meeting', 'permit']\n"
     ]
    }
   ],
   "source": [
    "print(prediction_columns)\n",
    "print(investigate_columns)\n",
    "prediction_columns.append('id')\n",
    "prediction_columns.append('status_group')"
   ],
   "metadata": {
    "collapsed": false,
    "pycharm": {
     "name": "#%%\n"
    }
   }
  },
  {
   "cell_type": "code",
   "execution_count": 280,
   "outputs": [
    {
     "name": "stdout",
     "output_type": "stream",
     "text": [
      "['funder', 'installer', 'scheme_management', 'extraction_type_group', 'scheme_management', 'quality_group', 'source_type', 'quantity', 'payment', 'basin', 'waterpoint_type', 'age_at_record', 'id', 'status_group', 'public_meeting', 'permit']\n"
     ]
    }
   ],
   "source": [
    "#The columns to be investigated further will be added to the new dataframe for use in data analysis before applying the prediction model.\n",
    "\n",
    "model_df_list = prediction_columns + investigate_columns\n",
    "print(model_df_list)"
   ],
   "metadata": {
    "collapsed": false,
    "pycharm": {
     "name": "#%%\n"
    }
   }
  },
  {
   "cell_type": "code",
   "execution_count": 288,
   "outputs": [
    {
     "name": "stdout",
     "output_type": "stream",
     "text": [
      "           funder installer scheme_management extraction_type_group  \\\n",
      "0           Other     Other               VWC               gravity   \n",
      "1           Other     Other             Other               gravity   \n",
      "2           Other     Other               VWC               gravity   \n",
      "3          Unicef     Other               VWC           submersible   \n",
      "4           Other     Other             Other               gravity   \n",
      "...           ...       ...               ...                   ...   \n",
      "59395       Other     Other       Water Board               gravity   \n",
      "59396       Other     Other               VWC               gravity   \n",
      "59397       Other     Other               VWC                swn 80   \n",
      "59398       Other     Other               VWC           nira/tanira   \n",
      "59399  World Bank     Other               VWC           nira/tanira   \n",
      "\n",
      "      scheme_management quality_group           source_type      quantity  \\\n",
      "0                   VWC          good                spring        enough   \n",
      "1                 Other          good  rainwater harvesting  insufficient   \n",
      "2                   VWC          good                   dam        enough   \n",
      "3                   VWC          good              borehole           dry   \n",
      "4                 Other          good  rainwater harvesting      seasonal   \n",
      "...                 ...           ...                   ...           ...   \n",
      "59395       Water Board          good                spring        enough   \n",
      "59396               VWC          good            river/lake        enough   \n",
      "59397               VWC      fluoride              borehole        enough   \n",
      "59398               VWC          good          shallow well  insufficient   \n",
      "59399               VWC         salty          shallow well        enough   \n",
      "\n",
      "                     payment                    basin  \\\n",
      "0               pay annually               Lake Nyasa   \n",
      "1                  never pay            Lake Victoria   \n",
      "2             pay per bucket                  Pangani   \n",
      "3                  never pay  Ruvuma / Southern Coast   \n",
      "4                  never pay            Lake Victoria   \n",
      "...                      ...                      ...   \n",
      "59395         pay per bucket                  Pangani   \n",
      "59396           pay annually                   Rufiji   \n",
      "59397            pay monthly                   Rufiji   \n",
      "59398              never pay                   Rufiji   \n",
      "59399  pay when scheme fails              Wami / Ruvu   \n",
      "\n",
      "                   waterpoint_type  age_at_record     id    status_group  \\\n",
      "0               communal standpipe             12  69572      functional   \n",
      "1               communal standpipe              3   8776      functional   \n",
      "2      communal standpipe multiple              4  34310      functional   \n",
      "3      communal standpipe multiple             27  67743  non functional   \n",
      "4               communal standpipe             25  19728      functional   \n",
      "...                            ...            ...    ...             ...   \n",
      "59395           communal standpipe             14  60739      functional   \n",
      "59396           communal standpipe             15  27263      functional   \n",
      "59397                    hand pump             25  37057      functional   \n",
      "59398                    hand pump             25  31282      functional   \n",
      "59399                    hand pump              9  26348      functional   \n",
      "\n",
      "      public_meeting permit  \n",
      "0               True  False  \n",
      "1            Unknown   True  \n",
      "2               True   True  \n",
      "3               True   True  \n",
      "4               True   True  \n",
      "...              ...    ...  \n",
      "59395           True   True  \n",
      "59396           True   True  \n",
      "59397           True  False  \n",
      "59398           True   True  \n",
      "59399           True   True  \n",
      "\n",
      "[59400 rows x 16 columns]\n"
     ]
    }
   ],
   "source": [
    "model_df = pump_df[model_df_list].copy()\n",
    "print(model_df)"
   ],
   "metadata": {
    "collapsed": false,
    "pycharm": {
     "name": "#%%\n"
    }
   }
  },
  {
   "cell_type": "code",
   "execution_count": 290,
   "outputs": [],
   "source": [
    "model_df.to_csv('pump_model_data.csv', index=False)"
   ],
   "metadata": {
    "collapsed": false,
    "pycharm": {
     "name": "#%%\n"
    }
   }
  },
  {
   "cell_type": "code",
   "execution_count": null,
   "outputs": [],
   "source": [],
   "metadata": {
    "collapsed": false,
    "pycharm": {
     "name": "#%%\n"
    }
   }
  }
 ],
 "metadata": {
  "kernelspec": {
   "display_name": "Python 3",
   "language": "python",
   "name": "python3"
  },
  "language_info": {
   "codemirror_mode": {
    "name": "ipython",
    "version": 2
   },
   "file_extension": ".py",
   "mimetype": "text/x-python",
   "name": "python",
   "nbconvert_exporter": "python",
   "pygments_lexer": "ipython2",
   "version": "2.7.6"
  }
 },
 "nbformat": 4,
 "nbformat_minor": 0
}