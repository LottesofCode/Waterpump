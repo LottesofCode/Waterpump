{
 "cells": [
  {
   "cell_type": "code",
   "execution_count": 18,
   "outputs": [],
   "source": [
    "import pandas as pd\n",
    "import matplotlib.pyplot as plt\n",
    "from sklearn.ensemble import RandomForestClassifier\n",
    "from sklearn.model_selection import train_test_split"
   ],
   "metadata": {
    "collapsed": false,
    "pycharm": {
     "name": "#%%\n"
    }
   }
  },
  {
   "cell_type": "code",
   "execution_count": 18,
   "outputs": [],
   "source": [],
   "metadata": {
    "collapsed": false,
    "pycharm": {
     "name": "#%%\n"
    }
   }
  },
  {
   "cell_type": "code",
   "execution_count": 19,
   "outputs": [],
   "source": [
    "#import the data\n",
    "df = pd.read_csv(r'pump_model_data.csv')"
   ],
   "metadata": {
    "collapsed": false,
    "pycharm": {
     "name": "#%%\n"
    }
   }
  },
  {
   "cell_type": "code",
   "execution_count": 20,
   "outputs": [
    {
     "data": {
      "text/plain": "Index(['funder', 'installer', 'scheme_management', 'extraction_type_group',\n       'quality_group', 'source_type', 'quantity', 'payment', 'basin',\n       'waterpoint_type', 'age_at_record', 'id', 'status_group',\n       'public_meeting', 'permit'],\n      dtype='object')"
     },
     "execution_count": 20,
     "metadata": {},
     "output_type": "execute_result"
    }
   ],
   "source": [
    "df.columns"
   ],
   "metadata": {
    "collapsed": false,
    "pycharm": {
     "name": "#%%\n"
    }
   }
  },
  {
   "cell_type": "code",
   "execution_count": 21,
   "outputs": [
    {
     "name": "stdout",
     "output_type": "stream",
     "text": [
      "Index(['funder', 'installer', 'scheme_management', 'extraction_type_group',\n",
      "       'quality_group', 'source_type', 'quantity', 'payment', 'basin',\n",
      "       'waterpoint_type', 'age_at_record', 'id', 'status_group',\n",
      "       'public_meeting', 'permit'],\n",
      "      dtype='object')\n"
     ]
    }
   ],
   "source": [
    "#df.drop(columns='permit', inplace=True)\n",
    "#df.drop(columns='public_meeting', inplace=True)\n",
    "print(df.columns)"
   ],
   "metadata": {
    "collapsed": false,
    "pycharm": {
     "name": "#%%\n"
    }
   }
  },
  {
   "cell_type": "code",
   "execution_count": 22,
   "outputs": [],
   "source": [
    "dum_df = pd.get_dummies(df, columns=['funder', 'installer', 'scheme_management', 'extraction_type_group',\n",
    "                                     'quality_group', 'source_type', 'quantity', 'payment', 'basin',\n",
    "                                     'waterpoint_type', 'public_meeting', 'permit'] )"
   ],
   "metadata": {
    "collapsed": false,
    "pycharm": {
     "name": "#%%\n"
    }
   }
  },
  {
   "cell_type": "code",
   "execution_count": 23,
   "outputs": [
    {
     "name": "stdout",
     "output_type": "stream",
     "text": [
      "Index(['id', 'status_group', 'age_at_record', 'funder_Danida',\n",
      "       'funder_Government Of Tanzania', 'funder_Hesawa', 'funder_Kkkt',\n",
      "       'funder_Other', 'funder_Rwssp', 'funder_Unicef', 'funder_World Bank',\n",
      "       'funder_World Vision', 'installer_Commu', 'installer_DANIDA',\n",
      "       'installer_DWE', 'installer_Government', 'installer_Hesawa',\n",
      "       'installer_KKKT', 'installer_Other', 'installer_RWE',\n",
      "       'scheme_management_Company', 'scheme_management_Other',\n",
      "       'scheme_management_Parastatal', 'scheme_management_Private operator',\n",
      "       'scheme_management_VWC', 'scheme_management_WUA',\n",
      "       'scheme_management_WUG', 'scheme_management_Water Board',\n",
      "       'scheme_management_Water authority', 'extraction_type_group_afridev',\n",
      "       'extraction_type_group_gravity', 'extraction_type_group_india mark ii',\n",
      "       'extraction_type_group_india mark iii', 'extraction_type_group_mono',\n",
      "       'extraction_type_group_nira/tanira', 'extraction_type_group_other',\n",
      "       'extraction_type_group_other handpump',\n",
      "       'extraction_type_group_other motorpump',\n",
      "       'extraction_type_group_rope pump', 'extraction_type_group_submersible',\n",
      "       'extraction_type_group_swn 80', 'extraction_type_group_wind-powered',\n",
      "       'quality_group_colored', 'quality_group_fluoride', 'quality_group_good',\n",
      "       'quality_group_milky', 'quality_group_salty', 'quality_group_unknown',\n",
      "       'source_type_borehole', 'source_type_dam', 'source_type_other',\n",
      "       'source_type_rainwater harvesting', 'source_type_river/lake',\n",
      "       'source_type_shallow well', 'source_type_spring', 'quantity_dry',\n",
      "       'quantity_enough', 'quantity_insufficient', 'quantity_seasonal',\n",
      "       'quantity_unknown', 'payment_never pay', 'payment_other',\n",
      "       'payment_pay annually', 'payment_pay monthly', 'payment_pay per bucket',\n",
      "       'payment_pay when scheme fails', 'payment_unknown', 'basin_Internal',\n",
      "       'basin_Lake Nyasa', 'basin_Lake Rukwa', 'basin_Lake Tanganyika',\n",
      "       'basin_Lake Victoria', 'basin_Pangani', 'basin_Rufiji',\n",
      "       'basin_Ruvuma / Southern Coast', 'basin_Wami / Ruvu',\n",
      "       'waterpoint_type_cattle trough', 'waterpoint_type_communal standpipe',\n",
      "       'waterpoint_type_communal standpipe multiple', 'waterpoint_type_dam',\n",
      "       'waterpoint_type_hand pump', 'waterpoint_type_improved spring',\n",
      "       'waterpoint_type_other', 'public_meeting_False', 'public_meeting_True',\n",
      "       'public_meeting_Unknown', 'permit_False', 'permit_True',\n",
      "       'permit_Unknown'],\n",
      "      dtype='object')\n"
     ]
    }
   ],
   "source": [
    "dum_df['status_group']= df.status_group\n",
    "\n",
    "column_to_reorder = dum_df.pop('status_group')\n",
    "dum_df.insert(0, 'status_group', column_to_reorder)\n",
    "column_to_reorder_two = dum_df.pop('id')\n",
    "dum_df.insert(0, 'id', column_to_reorder_two)\n",
    "\n",
    "print(dum_df.columns)\n",
    "feature_names = list(dum_df.columns)"
   ],
   "metadata": {
    "collapsed": false,
    "pycharm": {
     "name": "#%%\n"
    }
   }
  },
  {
   "cell_type": "code",
   "execution_count": 24,
   "outputs": [
    {
     "name": "stdout",
     "output_type": "stream",
     "text": [
      "0        0\n",
      "1        0\n",
      "2        0\n",
      "3        2\n",
      "4        0\n",
      "        ..\n",
      "59395    0\n",
      "59396    0\n",
      "59397    0\n",
      "59398    0\n",
      "59399    0\n",
      "Name: status_group, Length: 59400, dtype: int8\n"
     ]
    }
   ],
   "source": [
    "dum_df.status_group = dum_df['status_group'].astype('category').cat.codes\n",
    "print(dum_df.status_group)"
   ],
   "metadata": {
    "collapsed": false,
    "pycharm": {
     "name": "#%%\n"
    }
   }
  },
  {
   "cell_type": "code",
   "execution_count": 25,
   "outputs": [
    {
     "name": "stdout",
     "output_type": "stream",
     "text": [
      "[0 0 0 ... 0 0 0]\n"
     ]
    }
   ],
   "source": [
    "labels = dum_df['status_group']\n",
    "labels_array = labels.squeeze().ravel()\n",
    "print(labels_array)\n",
    "\n",
    "dict_cats = {0: 'functional', 1 : 'functional needs repair', 2 : 'non functional'}\n"
   ],
   "metadata": {
    "collapsed": false,
    "pycharm": {
     "name": "#%%\n"
    }
   }
  },
  {
   "cell_type": "code",
   "execution_count": 26,
   "outputs": [
    {
     "name": "stdout",
     "output_type": "stream",
     "text": [
      "(47520, 87)\n",
      "(47520, 1)\n",
      "(11880, 87)\n",
      "(11880, 1)\n"
     ]
    }
   ],
   "source": [
    "X_data = dum_df.iloc[:, 2:]\n",
    "y_data = dum_df.iloc[:, 1:2]\n",
    "\n",
    "\n",
    "X_train, X_test, y_train, y_test = train_test_split(X_data, y_data, test_size=0.2, random_state=42)\n",
    "\n",
    "print(X_train.shape)\n",
    "print(y_train.shape)\n",
    "print(X_test.shape)\n",
    "print(y_test.shape)\n",
    "\n",
    "#convert the y data into an array\n",
    "y_train = y_train.to_numpy().ravel()"
   ],
   "metadata": {
    "collapsed": false,
    "pycharm": {
     "name": "#%%\n"
    }
   }
  },
  {
   "cell_type": "code",
   "execution_count": 27,
   "outputs": [
    {
     "name": "stdout",
     "output_type": "stream",
     "text": [
      "[2 0 0 ... 2 0 0]\n",
      "0.783080808080808\n"
     ]
    }
   ],
   "source": [
    "forest_model = RandomForestClassifier(n_estimators=1000)\n",
    "forest_model.fit(X_train, y_train)\n",
    "print(forest_model.predict(X_test))\n",
    "print(forest_model.score(X_test, y_test))"
   ],
   "metadata": {
    "collapsed": false,
    "pycharm": {
     "name": "#%%\n"
    }
   }
  },
  {
   "cell_type": "code",
   "execution_count": 28,
   "outputs": [
    {
     "name": "stdout",
     "output_type": "stream",
     "text": [
      "Requirement already satisfied: xgboost in c:\\users\\lottes\\miniconda3\\lib\\site-packages (1.6.1)\n",
      "Requirement already satisfied: numpy in c:\\users\\lottes\\miniconda3\\lib\\site-packages (from xgboost) (1.21.3)\n",
      "Requirement already satisfied: scipy in c:\\users\\lottes\\miniconda3\\lib\\site-packages (from xgboost) (1.7.1)\n"
     ]
    }
   ],
   "source": [
    "!pip install xgboost\n"
   ],
   "metadata": {
    "collapsed": false,
    "pycharm": {
     "name": "#%%\n"
    }
   }
  },
  {
   "cell_type": "code",
   "execution_count": 29,
   "outputs": [],
   "source": [
    "from xgboost import XGBClassifier"
   ],
   "metadata": {
    "collapsed": false,
    "pycharm": {
     "name": "#%%\n"
    }
   }
  },
  {
   "cell_type": "code",
   "execution_count": 30,
   "outputs": [],
   "source": [
    "xg_model = XGBClassifier()"
   ],
   "metadata": {
    "collapsed": false,
    "pycharm": {
     "name": "#%%\n"
    }
   }
  },
  {
   "cell_type": "code",
   "execution_count": 31,
   "outputs": [
    {
     "data": {
      "text/plain": "XGBClassifier(base_score=0.5, booster='gbtree', callbacks=None,\n              colsample_bylevel=1, colsample_bynode=1, colsample_bytree=1,\n              early_stopping_rounds=None, enable_categorical=False,\n              eval_metric=None, gamma=0, gpu_id=-1, grow_policy='depthwise',\n              importance_type=None, interaction_constraints='',\n              learning_rate=0.300000012, max_bin=256, max_cat_to_onehot=4,\n              max_delta_step=0, max_depth=6, max_leaves=0, min_child_weight=1,\n              missing=nan, monotone_constraints='()', n_estimators=100,\n              n_jobs=0, num_parallel_tree=1, objective='multi:softprob',\n              predictor='auto', random_state=0, reg_alpha=0, ...)",
      "text/html": "<style>#sk-container-id-1 {color: black;background-color: white;}#sk-container-id-1 pre{padding: 0;}#sk-container-id-1 div.sk-toggleable {background-color: white;}#sk-container-id-1 label.sk-toggleable__label {cursor: pointer;display: block;width: 100%;margin-bottom: 0;padding: 0.3em;box-sizing: border-box;text-align: center;}#sk-container-id-1 label.sk-toggleable__label-arrow:before {content: \"▸\";float: left;margin-right: 0.25em;color: #696969;}#sk-container-id-1 label.sk-toggleable__label-arrow:hover:before {color: black;}#sk-container-id-1 div.sk-estimator:hover label.sk-toggleable__label-arrow:before {color: black;}#sk-container-id-1 div.sk-toggleable__content {max-height: 0;max-width: 0;overflow: hidden;text-align: left;background-color: #f0f8ff;}#sk-container-id-1 div.sk-toggleable__content pre {margin: 0.2em;color: black;border-radius: 0.25em;background-color: #f0f8ff;}#sk-container-id-1 input.sk-toggleable__control:checked~div.sk-toggleable__content {max-height: 200px;max-width: 100%;overflow: auto;}#sk-container-id-1 input.sk-toggleable__control:checked~label.sk-toggleable__label-arrow:before {content: \"▾\";}#sk-container-id-1 div.sk-estimator input.sk-toggleable__control:checked~label.sk-toggleable__label {background-color: #d4ebff;}#sk-container-id-1 div.sk-label input.sk-toggleable__control:checked~label.sk-toggleable__label {background-color: #d4ebff;}#sk-container-id-1 input.sk-hidden--visually {border: 0;clip: rect(1px 1px 1px 1px);clip: rect(1px, 1px, 1px, 1px);height: 1px;margin: -1px;overflow: hidden;padding: 0;position: absolute;width: 1px;}#sk-container-id-1 div.sk-estimator {font-family: monospace;background-color: #f0f8ff;border: 1px dotted black;border-radius: 0.25em;box-sizing: border-box;margin-bottom: 0.5em;}#sk-container-id-1 div.sk-estimator:hover {background-color: #d4ebff;}#sk-container-id-1 div.sk-parallel-item::after {content: \"\";width: 100%;border-bottom: 1px solid gray;flex-grow: 1;}#sk-container-id-1 div.sk-label:hover label.sk-toggleable__label {background-color: #d4ebff;}#sk-container-id-1 div.sk-serial::before {content: \"\";position: absolute;border-left: 1px solid gray;box-sizing: border-box;top: 0;bottom: 0;left: 50%;z-index: 0;}#sk-container-id-1 div.sk-serial {display: flex;flex-direction: column;align-items: center;background-color: white;padding-right: 0.2em;padding-left: 0.2em;position: relative;}#sk-container-id-1 div.sk-item {position: relative;z-index: 1;}#sk-container-id-1 div.sk-parallel {display: flex;align-items: stretch;justify-content: center;background-color: white;position: relative;}#sk-container-id-1 div.sk-item::before, #sk-container-id-1 div.sk-parallel-item::before {content: \"\";position: absolute;border-left: 1px solid gray;box-sizing: border-box;top: 0;bottom: 0;left: 50%;z-index: -1;}#sk-container-id-1 div.sk-parallel-item {display: flex;flex-direction: column;z-index: 1;position: relative;background-color: white;}#sk-container-id-1 div.sk-parallel-item:first-child::after {align-self: flex-end;width: 50%;}#sk-container-id-1 div.sk-parallel-item:last-child::after {align-self: flex-start;width: 50%;}#sk-container-id-1 div.sk-parallel-item:only-child::after {width: 0;}#sk-container-id-1 div.sk-dashed-wrapped {border: 1px dashed gray;margin: 0 0.4em 0.5em 0.4em;box-sizing: border-box;padding-bottom: 0.4em;background-color: white;}#sk-container-id-1 div.sk-label label {font-family: monospace;font-weight: bold;display: inline-block;line-height: 1.2em;}#sk-container-id-1 div.sk-label-container {text-align: center;}#sk-container-id-1 div.sk-container {/* jupyter's `normalize.less` sets `[hidden] { display: none; }` but bootstrap.min.css set `[hidden] { display: none !important; }` so we also need the `!important` here to be able to override the default hidden behavior on the sphinx rendered scikit-learn.org. See: https://github.com/scikit-learn/scikit-learn/issues/21755 */display: inline-block !important;position: relative;}#sk-container-id-1 div.sk-text-repr-fallback {display: none;}</style><div id=\"sk-container-id-1\" class=\"sk-top-container\"><div class=\"sk-text-repr-fallback\"><pre>XGBClassifier(base_score=0.5, booster=&#x27;gbtree&#x27;, callbacks=None,\n              colsample_bylevel=1, colsample_bynode=1, colsample_bytree=1,\n              early_stopping_rounds=None, enable_categorical=False,\n              eval_metric=None, gamma=0, gpu_id=-1, grow_policy=&#x27;depthwise&#x27;,\n              importance_type=None, interaction_constraints=&#x27;&#x27;,\n              learning_rate=0.300000012, max_bin=256, max_cat_to_onehot=4,\n              max_delta_step=0, max_depth=6, max_leaves=0, min_child_weight=1,\n              missing=nan, monotone_constraints=&#x27;()&#x27;, n_estimators=100,\n              n_jobs=0, num_parallel_tree=1, objective=&#x27;multi:softprob&#x27;,\n              predictor=&#x27;auto&#x27;, random_state=0, reg_alpha=0, ...)</pre><b>In a Jupyter environment, please rerun this cell to show the HTML representation or trust the notebook. <br />On GitHub, the HTML representation is unable to render, please try loading this page with nbviewer.org.</b></div><div class=\"sk-container\" hidden><div class=\"sk-item\"><div class=\"sk-estimator sk-toggleable\"><input class=\"sk-toggleable__control sk-hidden--visually\" id=\"sk-estimator-id-1\" type=\"checkbox\" checked><label for=\"sk-estimator-id-1\" class=\"sk-toggleable__label sk-toggleable__label-arrow\">XGBClassifier</label><div class=\"sk-toggleable__content\"><pre>XGBClassifier(base_score=0.5, booster=&#x27;gbtree&#x27;, callbacks=None,\n              colsample_bylevel=1, colsample_bynode=1, colsample_bytree=1,\n              early_stopping_rounds=None, enable_categorical=False,\n              eval_metric=None, gamma=0, gpu_id=-1, grow_policy=&#x27;depthwise&#x27;,\n              importance_type=None, interaction_constraints=&#x27;&#x27;,\n              learning_rate=0.300000012, max_bin=256, max_cat_to_onehot=4,\n              max_delta_step=0, max_depth=6, max_leaves=0, min_child_weight=1,\n              missing=nan, monotone_constraints=&#x27;()&#x27;, n_estimators=100,\n              n_jobs=0, num_parallel_tree=1, objective=&#x27;multi:softprob&#x27;,\n              predictor=&#x27;auto&#x27;, random_state=0, reg_alpha=0, ...)</pre></div></div></div></div></div>"
     },
     "execution_count": 31,
     "metadata": {},
     "output_type": "execute_result"
    }
   ],
   "source": [
    "xg_model.fit(X_train, y_train)"
   ],
   "metadata": {
    "collapsed": false,
    "pycharm": {
     "name": "#%%\n"
    }
   }
  },
  {
   "cell_type": "code",
   "execution_count": 34,
   "outputs": [
    {
     "name": "stdout",
     "output_type": "stream",
     "text": [
      "[2 0 0 ... 2 2 0]\n",
      "0.7835016835016835\n"
     ]
    }
   ],
   "source": [
    "print(xg_model.predict(X_test))\n",
    "print(xg_model.score(X_test, y_test))"
   ],
   "metadata": {
    "collapsed": false,
    "pycharm": {
     "name": "#%%\n"
    }
   }
  },
  {
   "cell_type": "code",
   "execution_count": 35,
   "outputs": [
    {
     "name": "stdout",
     "output_type": "stream",
     "text": [
      "Index(['age_at_record', 'id', 'funder_Danida', 'funder_Government Of Tanzania',\n",
      "       'funder_Hesawa', 'funder_Kkkt', 'funder_Other', 'funder_Rwssp',\n",
      "       'funder_Unicef', 'funder_World Bank', 'funder_World Vision',\n",
      "       'installer_Commu', 'installer_DANIDA', 'installer_DWE',\n",
      "       'installer_Government', 'installer_Hesawa', 'installer_KKKT',\n",
      "       'installer_Other', 'installer_RWE', 'scheme_management_Company',\n",
      "       'scheme_management_Other', 'scheme_management_Parastatal',\n",
      "       'scheme_management_Private operator', 'scheme_management_VWC',\n",
      "       'scheme_management_WUA', 'scheme_management_WUG',\n",
      "       'scheme_management_Water Board', 'scheme_management_Water authority',\n",
      "       'extraction_type_group_afridev', 'extraction_type_group_gravity',\n",
      "       'extraction_type_group_india mark ii',\n",
      "       'extraction_type_group_india mark iii', 'extraction_type_group_mono',\n",
      "       'extraction_type_group_nira/tanira', 'extraction_type_group_other',\n",
      "       'extraction_type_group_other handpump',\n",
      "       'extraction_type_group_other motorpump',\n",
      "       'extraction_type_group_rope pump', 'extraction_type_group_submersible',\n",
      "       'extraction_type_group_swn 80', 'extraction_type_group_wind-powered',\n",
      "       'quality_group_colored', 'quality_group_fluoride', 'quality_group_good',\n",
      "       'quality_group_milky', 'quality_group_salty', 'quality_group_unknown',\n",
      "       'source_type_borehole', 'source_type_dam', 'source_type_other',\n",
      "       'source_type_rainwater harvesting', 'source_type_river/lake',\n",
      "       'source_type_shallow well', 'source_type_spring', 'quantity_dry',\n",
      "       'quantity_enough', 'quantity_insufficient', 'quantity_seasonal',\n",
      "       'quantity_unknown', 'payment_never pay', 'payment_other',\n",
      "       'payment_pay annually', 'payment_pay monthly', 'payment_pay per bucket',\n",
      "       'payment_pay when scheme fails', 'payment_unknown', 'basin_Internal',\n",
      "       'basin_Lake Nyasa', 'basin_Lake Rukwa', 'basin_Lake Tanganyika',\n",
      "       'basin_Lake Victoria', 'basin_Pangani', 'basin_Rufiji',\n",
      "       'basin_Ruvuma / Southern Coast', 'basin_Wami / Ruvu',\n",
      "       'waterpoint_type_cattle trough', 'waterpoint_type_communal standpipe',\n",
      "       'waterpoint_type_communal standpipe multiple', 'waterpoint_type_dam',\n",
      "       'waterpoint_type_hand pump', 'waterpoint_type_improved spring',\n",
      "       'waterpoint_type_other', 'public_meeting_False', 'public_meeting_True',\n",
      "       'public_meeting_Unknown', 'permit_False', 'permit_True',\n",
      "       'permit_Unknown'],\n",
      "      dtype='object')\n",
      "14850\n",
      "Index(['id', 'status_group', 'age_at_record', 'funder_Danida',\n",
      "       'funder_Government Of Tanzania', 'funder_Hesawa', 'funder_Kkkt',\n",
      "       'funder_Other', 'funder_Rwssp', 'funder_Unicef', 'funder_World Bank',\n",
      "       'funder_World Vision', 'installer_Commu', 'installer_DANIDA',\n",
      "       'installer_DWE', 'installer_Government', 'installer_Hesawa',\n",
      "       'installer_KKKT', 'installer_Other', 'installer_RWE',\n",
      "       'scheme_management_Company', 'scheme_management_Other',\n",
      "       'scheme_management_Parastatal', 'scheme_management_Private operator',\n",
      "       'scheme_management_VWC', 'scheme_management_WUA',\n",
      "       'scheme_management_WUG', 'scheme_management_Water Board',\n",
      "       'scheme_management_Water authority', 'extraction_type_group_afridev',\n",
      "       'extraction_type_group_gravity', 'extraction_type_group_india mark ii',\n",
      "       'extraction_type_group_india mark iii', 'extraction_type_group_mono',\n",
      "       'extraction_type_group_nira/tanira', 'extraction_type_group_other',\n",
      "       'extraction_type_group_other handpump',\n",
      "       'extraction_type_group_other motorpump',\n",
      "       'extraction_type_group_rope pump', 'extraction_type_group_submersible',\n",
      "       'extraction_type_group_swn 80', 'extraction_type_group_wind-powered',\n",
      "       'quality_group_colored', 'quality_group_fluoride', 'quality_group_good',\n",
      "       'quality_group_milky', 'quality_group_salty', 'quality_group_unknown',\n",
      "       'source_type_borehole', 'source_type_dam', 'source_type_other',\n",
      "       'source_type_rainwater harvesting', 'source_type_river/lake',\n",
      "       'source_type_shallow well', 'source_type_spring', 'quantity_dry',\n",
      "       'quantity_enough', 'quantity_insufficient', 'quantity_seasonal',\n",
      "       'quantity_unknown', 'payment_never pay', 'payment_other',\n",
      "       'payment_pay annually', 'payment_pay monthly', 'payment_pay per bucket',\n",
      "       'payment_pay when scheme fails', 'payment_unknown', 'basin_Internal',\n",
      "       'basin_Lake Nyasa', 'basin_Lake Rukwa', 'basin_Lake Tanganyika',\n",
      "       'basin_Lake Victoria', 'basin_Pangani', 'basin_Rufiji',\n",
      "       'basin_Ruvuma / Southern Coast', 'basin_Wami / Ruvu',\n",
      "       'waterpoint_type_cattle trough', 'waterpoint_type_communal standpipe',\n",
      "       'waterpoint_type_communal standpipe multiple', 'waterpoint_type_dam',\n",
      "       'waterpoint_type_hand pump', 'waterpoint_type_improved spring',\n",
      "       'waterpoint_type_other', 'public_meeting_False', 'public_meeting_True',\n",
      "       'public_meeting_Unknown', 'permit_False', 'permit_True',\n",
      "       'permit_Unknown'],\n",
      "      dtype='object')\n",
      "0        50785\n",
      "1        51630\n",
      "2        17168\n",
      "3        45559\n",
      "4        49871\n",
      "         ...  \n",
      "14845    39307\n",
      "14846    18990\n",
      "14847    28749\n",
      "14848    33492\n",
      "14849    68707\n",
      "Name: id, Length: 14850, dtype: int64\n",
      "14850\n",
      "14850\n",
      "[0 0 0 ... 0 0 2]\n",
      "0        0\n",
      "1        0\n",
      "2        0\n",
      "3        2\n",
      "4        0\n",
      "        ..\n",
      "14845    2\n",
      "14846    0\n",
      "14847    0\n",
      "14848    0\n",
      "14849    2\n",
      "Name: status_group, Length: 14850, dtype: int64\n",
      "          id  status_group\n",
      "0      50785             0\n",
      "1      51630             0\n",
      "2      17168             0\n",
      "3      45559             2\n",
      "4      49871             0\n",
      "...      ...           ...\n",
      "14845  39307             2\n",
      "14846  18990             0\n",
      "14847  28749             0\n",
      "14848  33492             0\n",
      "14849  68707             2\n",
      "\n",
      "[14850 rows x 2 columns]\n",
      "          id    status_group\n",
      "0      50785      functional\n",
      "1      51630      functional\n",
      "2      17168      functional\n",
      "3      45559  non functional\n",
      "4      49871      functional\n",
      "...      ...             ...\n",
      "14845  39307  non functional\n",
      "14846  18990      functional\n",
      "14847  28749      functional\n",
      "14848  33492      functional\n",
      "14849  68707  non functional\n",
      "\n",
      "[14850 rows x 2 columns]\n"
     ]
    }
   ],
   "source": [
    "test_df = pd.read_csv(r'test_pump_model_data.csv')\n",
    "test_dum_df = pd.get_dummies(test_df, columns=['funder', 'installer', 'scheme_management', 'extraction_type_group',\n",
    "                                               'quality_group', 'source_type', 'quantity', 'payment', 'basin',\n",
    "                                               'waterpoint_type', 'public_meeting', 'permit'])\n",
    "print(test_dum_df.columns)\n",
    "print(len(test_dum_df))\n",
    "test_dum_df['status_group'] = ''\n",
    "coll = test_dum_df.pop('status_group')\n",
    "test_dum_df.insert(0, 'status_group', coll)\n",
    "col_to_reorder = test_dum_df.pop('id')\n",
    "test_dum_df.insert(0, 'id', col_to_reorder)\n",
    "print(test_dum_df.columns)\n",
    "\n",
    "print(test_dum_df.id)\n",
    "test_dum_df.to_csv(r'test_data_for_ML_with_dummies.csv')\n",
    "test_X_data = test_dum_df.iloc[:, 2:]\n",
    "print(len(test_dum_df))\n",
    "b = xg_model.predict(test_X_data)\n",
    "print(len(b))\n",
    "print(b)\n",
    "test_dum_df.status_group = b\n",
    "print(test_dum_df.status_group)\n",
    "sub = pd.read_csv(r'SubmissionFormat.csv')\n",
    "result_df = test_dum_df[['id', 'status_group']].copy()\n",
    "print(result_df)\n",
    "result_df.status_group = result_df.status_group.replace(dict_cats)\n",
    "print(result_df)\n",
    "result_df.to_csv(r'waterpump_submission.csv', index=False)"
   ],
   "metadata": {
    "collapsed": false,
    "pycharm": {
     "name": "#%%\n"
    }
   }
  },
  {
   "cell_type": "code",
   "execution_count": null,
   "outputs": [],
   "source": [],
   "metadata": {
    "collapsed": false,
    "pycharm": {
     "name": "#%%\n"
    }
   }
  }
 ],
 "metadata": {
  "kernelspec": {
   "display_name": "Python 3",
   "language": "python",
   "name": "python3"
  },
  "language_info": {
   "codemirror_mode": {
    "name": "ipython",
    "version": 2
   },
   "file_extension": ".py",
   "mimetype": "text/x-python",
   "name": "python",
   "nbconvert_exporter": "python",
   "pygments_lexer": "ipython2",
   "version": "2.7.6"
  }
 },
 "nbformat": 4,
 "nbformat_minor": 0
}